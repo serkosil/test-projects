{
 "cells": [
  {
   "cell_type": "markdown",
   "metadata": {},
   "source": [
    "# Тестовое задание “Маркетинговый аналитик” (стажировка)"
   ]
  },
  {
   "cell_type": "markdown",
   "metadata": {},
   "source": [
    "Платформа для покупки рекламного трафика помогает рекламодателям со всего мира продвигать свои товары и услуги на различных площадках, максимально детализировано таргетироваться на целевую аудиторию, гибко менять настройки и отслеживать эффективность рекламных кампаний практически в режиме онлайн.\n",
    "\n",
    "Одной из задач команды маркетинга является привлечение на платформу новых пользователей. Для этого используются различные инструменты: реклама в facebook (запрещёна в РФ) и google, email-рассылки, реферальные программы и прочее.\n",
    "\n",
    "Нужно помочь руководителю отдела маркетинга определить ключевые метрики, которыми можно измерить:\n",
    "- общую эффективность работы отдела маркетинга;\n",
    "- эффективность финансовых вложений в тот или иной канал привлечения (источник трафика)."
   ]
  },
  {
   "cell_type": "markdown",
   "metadata": {},
   "source": [
    "## Задачи\n",
    "1. Рассчитать определённые метрики для всех каналов привлечения: количество транзакций, общий объём транзакций и доля новых пользователей.\n",
    "3. Визуализировать сравнение источников на графике.\n",
    "4. Сделать выводы, по возможности учитывая специфику бизнеса - стоит ли маркетингу изменить стратегию работы с источниками, и каким образом."
   ]
  },
  {
   "cell_type": "markdown",
   "metadata": {},
   "source": [
    "## Описание данных\n",
    "- `user_id` - id пользователя;\n",
    "- `invoice_id` - номер инвойса, который оплатил пользователь;\n",
    "- `payment_id` - id транзакции (пополнение счёта через оплату инвойса);\n",
    "- `Session default channel group` - источник, по которому пользователь перешёл на страницу оплаты;\n",
    "- `payment_date` - дата транзакции;\n",
    "- `payment_amount` - сумма транзакции;\n",
    "- `is_ftd` - метка, обозначающая является ли данная транзакция первой для пользователя (FTD - First Time Deposit - первое пополнение)."
   ]
  },
  {
   "cell_type": "markdown",
   "metadata": {},
   "source": [
    "## Изучение данных\n",
    "Загружаем окружение и данные, получаем сведения о датасете."
   ]
  },
  {
   "cell_type": "code",
   "execution_count": 1,
   "metadata": {},
   "outputs": [],
   "source": [
    "import pandas as pd\n",
    "from scipy import stats\n",
    "import numpy as np\n",
    "import matplotlib.pyplot as plt\n",
    "import plotly.express as px"
   ]
  },
  {
   "cell_type": "code",
   "execution_count": 2,
   "metadata": {},
   "outputs": [],
   "source": [
    "# Загрузка данных\n",
    "df = pd.read_csv('test_26062024.csv')"
   ]
  },
  {
   "cell_type": "code",
   "execution_count": 3,
   "metadata": {},
   "outputs": [
    {
     "name": "stdout",
     "output_type": "stream",
     "text": [
      "\u001b[1mПервые 10 строк:\u001b[0m\n"
     ]
    },
    {
     "data": {
      "text/html": [
       "<div>\n",
       "<style scoped>\n",
       "    .dataframe tbody tr th:only-of-type {\n",
       "        vertical-align: middle;\n",
       "    }\n",
       "\n",
       "    .dataframe tbody tr th {\n",
       "        vertical-align: top;\n",
       "    }\n",
       "\n",
       "    .dataframe thead th {\n",
       "        text-align: right;\n",
       "    }\n",
       "</style>\n",
       "<table border=\"1\" class=\"dataframe\">\n",
       "  <thead>\n",
       "    <tr style=\"text-align: right;\">\n",
       "      <th></th>\n",
       "      <th>payment_id</th>\n",
       "      <th>user_id</th>\n",
       "      <th>invoice_id</th>\n",
       "      <th>Session default channel group</th>\n",
       "      <th>payment_date</th>\n",
       "      <th>is_ftd</th>\n",
       "      <th>payment_amount</th>\n",
       "    </tr>\n",
       "  </thead>\n",
       "  <tbody>\n",
       "    <tr>\n",
       "      <th>0</th>\n",
       "      <td>75533919</td>\n",
       "      <td>94225</td>\n",
       "      <td>115359</td>\n",
       "      <td>Paid Search</td>\n",
       "      <td>1/31/2024</td>\n",
       "      <td>NaN</td>\n",
       "      <td>51.50</td>\n",
       "    </tr>\n",
       "    <tr>\n",
       "      <th>1</th>\n",
       "      <td>75533917</td>\n",
       "      <td>82453</td>\n",
       "      <td>115358</td>\n",
       "      <td>Referral</td>\n",
       "      <td>1/31/2024</td>\n",
       "      <td>NaN</td>\n",
       "      <td>51.50</td>\n",
       "    </tr>\n",
       "    <tr>\n",
       "      <th>2</th>\n",
       "      <td>75533911</td>\n",
       "      <td>94225</td>\n",
       "      <td>115357</td>\n",
       "      <td>Paid Search</td>\n",
       "      <td>1/31/2024</td>\n",
       "      <td>NaN</td>\n",
       "      <td>51.50</td>\n",
       "    </tr>\n",
       "    <tr>\n",
       "      <th>3</th>\n",
       "      <td>75533909</td>\n",
       "      <td>13708</td>\n",
       "      <td>115354</td>\n",
       "      <td>Organic Search</td>\n",
       "      <td>1/31/2024</td>\n",
       "      <td>NaN</td>\n",
       "      <td>150.68</td>\n",
       "    </tr>\n",
       "    <tr>\n",
       "      <th>4</th>\n",
       "      <td>75533907</td>\n",
       "      <td>94205</td>\n",
       "      <td>115353</td>\n",
       "      <td>Direct</td>\n",
       "      <td>1/31/2024</td>\n",
       "      <td>NaN</td>\n",
       "      <td>51.50</td>\n",
       "    </tr>\n",
       "    <tr>\n",
       "      <th>5</th>\n",
       "      <td>75533905</td>\n",
       "      <td>93642</td>\n",
       "      <td>115352</td>\n",
       "      <td>Direct</td>\n",
       "      <td>1/31/2024</td>\n",
       "      <td>NaN</td>\n",
       "      <td>52.50</td>\n",
       "    </tr>\n",
       "    <tr>\n",
       "      <th>6</th>\n",
       "      <td>75533900</td>\n",
       "      <td>94225</td>\n",
       "      <td>115351</td>\n",
       "      <td>Paid Search</td>\n",
       "      <td>1/31/2024</td>\n",
       "      <td>1.0</td>\n",
       "      <td>51.50</td>\n",
       "    </tr>\n",
       "    <tr>\n",
       "      <th>7</th>\n",
       "      <td>75533896</td>\n",
       "      <td>94205</td>\n",
       "      <td>115350</td>\n",
       "      <td>Direct</td>\n",
       "      <td>1/31/2024</td>\n",
       "      <td>NaN</td>\n",
       "      <td>51.50</td>\n",
       "    </tr>\n",
       "    <tr>\n",
       "      <th>8</th>\n",
       "      <td>75533891</td>\n",
       "      <td>33980</td>\n",
       "      <td>115349</td>\n",
       "      <td>Referral</td>\n",
       "      <td>1/31/2024</td>\n",
       "      <td>NaN</td>\n",
       "      <td>102.50</td>\n",
       "    </tr>\n",
       "    <tr>\n",
       "      <th>9</th>\n",
       "      <td>75533890</td>\n",
       "      <td>45328</td>\n",
       "      <td>115348</td>\n",
       "      <td>Paid Search</td>\n",
       "      <td>1/31/2024</td>\n",
       "      <td>NaN</td>\n",
       "      <td>300.00</td>\n",
       "    </tr>\n",
       "  </tbody>\n",
       "</table>\n",
       "</div>"
      ],
      "text/plain": [
       "   payment_id  user_id  invoice_id Session default channel group payment_date  \\\n",
       "0    75533919    94225      115359                   Paid Search    1/31/2024   \n",
       "1    75533917    82453      115358                      Referral    1/31/2024   \n",
       "2    75533911    94225      115357                   Paid Search    1/31/2024   \n",
       "3    75533909    13708      115354                Organic Search    1/31/2024   \n",
       "4    75533907    94205      115353                        Direct    1/31/2024   \n",
       "5    75533905    93642      115352                        Direct    1/31/2024   \n",
       "6    75533900    94225      115351                   Paid Search    1/31/2024   \n",
       "7    75533896    94205      115350                        Direct    1/31/2024   \n",
       "8    75533891    33980      115349                      Referral    1/31/2024   \n",
       "9    75533890    45328      115348                   Paid Search    1/31/2024   \n",
       "\n",
       "   is_ftd  payment_amount  \n",
       "0     NaN           51.50  \n",
       "1     NaN           51.50  \n",
       "2     NaN           51.50  \n",
       "3     NaN          150.68  \n",
       "4     NaN           51.50  \n",
       "5     NaN           52.50  \n",
       "6     1.0           51.50  \n",
       "7     NaN           51.50  \n",
       "8     NaN          102.50  \n",
       "9     NaN          300.00  "
      ]
     },
     "metadata": {},
     "output_type": "display_data"
    },
    {
     "name": "stdout",
     "output_type": "stream",
     "text": [
      "-------------\n",
      "\u001b[1mПоследние 10 строк:\u001b[0m\n"
     ]
    },
    {
     "data": {
      "text/html": [
       "<div>\n",
       "<style scoped>\n",
       "    .dataframe tbody tr th:only-of-type {\n",
       "        vertical-align: middle;\n",
       "    }\n",
       "\n",
       "    .dataframe tbody tr th {\n",
       "        vertical-align: top;\n",
       "    }\n",
       "\n",
       "    .dataframe thead th {\n",
       "        text-align: right;\n",
       "    }\n",
       "</style>\n",
       "<table border=\"1\" class=\"dataframe\">\n",
       "  <thead>\n",
       "    <tr style=\"text-align: right;\">\n",
       "      <th></th>\n",
       "      <th>payment_id</th>\n",
       "      <th>user_id</th>\n",
       "      <th>invoice_id</th>\n",
       "      <th>Session default channel group</th>\n",
       "      <th>payment_date</th>\n",
       "      <th>is_ftd</th>\n",
       "      <th>payment_amount</th>\n",
       "    </tr>\n",
       "  </thead>\n",
       "  <tbody>\n",
       "    <tr>\n",
       "      <th>1335</th>\n",
       "      <td>75500888</td>\n",
       "      <td>86800</td>\n",
       "      <td>112248</td>\n",
       "      <td>NaN</td>\n",
       "      <td>1/1/2024</td>\n",
       "      <td>NaN</td>\n",
       "      <td>100.0</td>\n",
       "    </tr>\n",
       "    <tr>\n",
       "      <th>1336</th>\n",
       "      <td>75500887</td>\n",
       "      <td>57602</td>\n",
       "      <td>112245</td>\n",
       "      <td>Direct</td>\n",
       "      <td>1/1/2024</td>\n",
       "      <td>NaN</td>\n",
       "      <td>250.0</td>\n",
       "    </tr>\n",
       "    <tr>\n",
       "      <th>1337</th>\n",
       "      <td>75500885</td>\n",
       "      <td>82587</td>\n",
       "      <td>112247</td>\n",
       "      <td>Paid Search</td>\n",
       "      <td>1/1/2024</td>\n",
       "      <td>NaN</td>\n",
       "      <td>51.5</td>\n",
       "    </tr>\n",
       "    <tr>\n",
       "      <th>1338</th>\n",
       "      <td>75500883</td>\n",
       "      <td>89128</td>\n",
       "      <td>112246</td>\n",
       "      <td>Direct</td>\n",
       "      <td>1/1/2024</td>\n",
       "      <td>NaN</td>\n",
       "      <td>51.5</td>\n",
       "    </tr>\n",
       "    <tr>\n",
       "      <th>1339</th>\n",
       "      <td>75500863</td>\n",
       "      <td>88158</td>\n",
       "      <td>112244</td>\n",
       "      <td>Paid Search</td>\n",
       "      <td>1/1/2024</td>\n",
       "      <td>NaN</td>\n",
       "      <td>51.5</td>\n",
       "    </tr>\n",
       "    <tr>\n",
       "      <th>1340</th>\n",
       "      <td>75500861</td>\n",
       "      <td>89027</td>\n",
       "      <td>112241</td>\n",
       "      <td>Paid Search</td>\n",
       "      <td>1/1/2024</td>\n",
       "      <td>NaN</td>\n",
       "      <td>103.0</td>\n",
       "    </tr>\n",
       "    <tr>\n",
       "      <th>1341</th>\n",
       "      <td>75500854</td>\n",
       "      <td>14084</td>\n",
       "      <td>112240</td>\n",
       "      <td>Direct</td>\n",
       "      <td>1/1/2024</td>\n",
       "      <td>NaN</td>\n",
       "      <td>102.5</td>\n",
       "    </tr>\n",
       "    <tr>\n",
       "      <th>1342</th>\n",
       "      <td>75500840</td>\n",
       "      <td>89184</td>\n",
       "      <td>112238</td>\n",
       "      <td>Cross-network</td>\n",
       "      <td>1/1/2024</td>\n",
       "      <td>1.0</td>\n",
       "      <td>51.5</td>\n",
       "    </tr>\n",
       "    <tr>\n",
       "      <th>1343</th>\n",
       "      <td>75500825</td>\n",
       "      <td>89027</td>\n",
       "      <td>112237</td>\n",
       "      <td>NaN</td>\n",
       "      <td>1/1/2024</td>\n",
       "      <td>NaN</td>\n",
       "      <td>51.5</td>\n",
       "    </tr>\n",
       "    <tr>\n",
       "      <th>1344</th>\n",
       "      <td>75500819</td>\n",
       "      <td>89128</td>\n",
       "      <td>112236</td>\n",
       "      <td>NaN</td>\n",
       "      <td>1/1/2024</td>\n",
       "      <td>NaN</td>\n",
       "      <td>51.5</td>\n",
       "    </tr>\n",
       "  </tbody>\n",
       "</table>\n",
       "</div>"
      ],
      "text/plain": [
       "      payment_id  user_id  invoice_id Session default channel group  \\\n",
       "1335    75500888    86800      112248                           NaN   \n",
       "1336    75500887    57602      112245                        Direct   \n",
       "1337    75500885    82587      112247                   Paid Search   \n",
       "1338    75500883    89128      112246                        Direct   \n",
       "1339    75500863    88158      112244                   Paid Search   \n",
       "1340    75500861    89027      112241                   Paid Search   \n",
       "1341    75500854    14084      112240                        Direct   \n",
       "1342    75500840    89184      112238                 Cross-network   \n",
       "1343    75500825    89027      112237                           NaN   \n",
       "1344    75500819    89128      112236                           NaN   \n",
       "\n",
       "     payment_date  is_ftd  payment_amount  \n",
       "1335     1/1/2024     NaN           100.0  \n",
       "1336     1/1/2024     NaN           250.0  \n",
       "1337     1/1/2024     NaN            51.5  \n",
       "1338     1/1/2024     NaN            51.5  \n",
       "1339     1/1/2024     NaN            51.5  \n",
       "1340     1/1/2024     NaN           103.0  \n",
       "1341     1/1/2024     NaN           102.5  \n",
       "1342     1/1/2024     1.0            51.5  \n",
       "1343     1/1/2024     NaN            51.5  \n",
       "1344     1/1/2024     NaN            51.5  "
      ]
     },
     "metadata": {},
     "output_type": "display_data"
    },
    {
     "name": "stdout",
     "output_type": "stream",
     "text": [
      "-------------\n",
      "\u001b[1mТипы данных:\u001b[0m\n",
      "<class 'pandas.core.frame.DataFrame'>\n",
      "RangeIndex: 1345 entries, 0 to 1344\n",
      "Data columns (total 7 columns):\n",
      " #   Column                         Non-Null Count  Dtype  \n",
      "---  ------                         --------------  -----  \n",
      " 0   payment_id                     1345 non-null   int64  \n",
      " 1   user_id                        1345 non-null   int64  \n",
      " 2   invoice_id                     1345 non-null   int64  \n",
      " 3   Session default channel group  1087 non-null   object \n",
      " 4   payment_date                   1345 non-null   object \n",
      " 5   is_ftd                         240 non-null    float64\n",
      " 6   payment_amount                 1345 non-null   float64\n",
      "dtypes: float64(2), int64(3), object(2)\n",
      "memory usage: 197.8 KB\n"
     ]
    },
    {
     "data": {
      "text/plain": [
       "None"
      ]
     },
     "metadata": {},
     "output_type": "display_data"
    },
    {
     "name": "stdout",
     "output_type": "stream",
     "text": [
      "-------------\n",
      "\u001b[1mПолное статистическое описание:\u001b[0m\n"
     ]
    },
    {
     "data": {
      "text/html": [
       "<div>\n",
       "<style scoped>\n",
       "    .dataframe tbody tr th:only-of-type {\n",
       "        vertical-align: middle;\n",
       "    }\n",
       "\n",
       "    .dataframe tbody tr th {\n",
       "        vertical-align: top;\n",
       "    }\n",
       "\n",
       "    .dataframe thead th {\n",
       "        text-align: right;\n",
       "    }\n",
       "</style>\n",
       "<table border=\"1\" class=\"dataframe\">\n",
       "  <thead>\n",
       "    <tr style=\"text-align: right;\">\n",
       "      <th></th>\n",
       "      <th>payment_id</th>\n",
       "      <th>user_id</th>\n",
       "      <th>invoice_id</th>\n",
       "      <th>Session default channel group</th>\n",
       "      <th>payment_date</th>\n",
       "      <th>is_ftd</th>\n",
       "      <th>payment_amount</th>\n",
       "    </tr>\n",
       "  </thead>\n",
       "  <tbody>\n",
       "    <tr>\n",
       "      <th>count</th>\n",
       "      <td>1.345000e+03</td>\n",
       "      <td>1345.000000</td>\n",
       "      <td>1345.000000</td>\n",
       "      <td>1087</td>\n",
       "      <td>1345</td>\n",
       "      <td>240.0</td>\n",
       "      <td>1345.000000</td>\n",
       "    </tr>\n",
       "    <tr>\n",
       "      <th>unique</th>\n",
       "      <td>NaN</td>\n",
       "      <td>NaN</td>\n",
       "      <td>NaN</td>\n",
       "      <td>9</td>\n",
       "      <td>31</td>\n",
       "      <td>NaN</td>\n",
       "      <td>NaN</td>\n",
       "    </tr>\n",
       "    <tr>\n",
       "      <th>top</th>\n",
       "      <td>NaN</td>\n",
       "      <td>NaN</td>\n",
       "      <td>NaN</td>\n",
       "      <td>Direct</td>\n",
       "      <td>1/3/2024</td>\n",
       "      <td>NaN</td>\n",
       "      <td>NaN</td>\n",
       "    </tr>\n",
       "    <tr>\n",
       "      <th>freq</th>\n",
       "      <td>NaN</td>\n",
       "      <td>NaN</td>\n",
       "      <td>NaN</td>\n",
       "      <td>563</td>\n",
       "      <td>75</td>\n",
       "      <td>NaN</td>\n",
       "      <td>NaN</td>\n",
       "    </tr>\n",
       "    <tr>\n",
       "      <th>mean</th>\n",
       "      <td>7.551702e+07</td>\n",
       "      <td>62942.318959</td>\n",
       "      <td>113724.494424</td>\n",
       "      <td>NaN</td>\n",
       "      <td>NaN</td>\n",
       "      <td>1.0</td>\n",
       "      <td>1027.546647</td>\n",
       "    </tr>\n",
       "    <tr>\n",
       "      <th>std</th>\n",
       "      <td>1.015501e+04</td>\n",
       "      <td>30907.057422</td>\n",
       "      <td>958.062263</td>\n",
       "      <td>NaN</td>\n",
       "      <td>NaN</td>\n",
       "      <td>0.0</td>\n",
       "      <td>7128.602300</td>\n",
       "    </tr>\n",
       "    <tr>\n",
       "      <th>min</th>\n",
       "      <td>7.550082e+07</td>\n",
       "      <td>60.000000</td>\n",
       "      <td>109149.000000</td>\n",
       "      <td>NaN</td>\n",
       "      <td>NaN</td>\n",
       "      <td>1.0</td>\n",
       "      <td>49.000000</td>\n",
       "    </tr>\n",
       "    <tr>\n",
       "      <th>25%</th>\n",
       "      <td>7.550770e+07</td>\n",
       "      <td>37224.000000</td>\n",
       "      <td>112953.000000</td>\n",
       "      <td>NaN</td>\n",
       "      <td>NaN</td>\n",
       "      <td>1.0</td>\n",
       "      <td>51.500000</td>\n",
       "    </tr>\n",
       "    <tr>\n",
       "      <th>50%</th>\n",
       "      <td>7.551738e+07</td>\n",
       "      <td>82478.000000</td>\n",
       "      <td>113738.000000</td>\n",
       "      <td>NaN</td>\n",
       "      <td>NaN</td>\n",
       "      <td>1.0</td>\n",
       "      <td>102.500000</td>\n",
       "    </tr>\n",
       "    <tr>\n",
       "      <th>75%</th>\n",
       "      <td>7.552611e+07</td>\n",
       "      <td>89872.000000</td>\n",
       "      <td>114542.000000</td>\n",
       "      <td>NaN</td>\n",
       "      <td>NaN</td>\n",
       "      <td>1.0</td>\n",
       "      <td>200.000000</td>\n",
       "    </tr>\n",
       "    <tr>\n",
       "      <th>max</th>\n",
       "      <td>7.553392e+07</td>\n",
       "      <td>94225.000000</td>\n",
       "      <td>115359.000000</td>\n",
       "      <td>NaN</td>\n",
       "      <td>NaN</td>\n",
       "      <td>1.0</td>\n",
       "      <td>176290.750000</td>\n",
       "    </tr>\n",
       "  </tbody>\n",
       "</table>\n",
       "</div>"
      ],
      "text/plain": [
       "          payment_id       user_id     invoice_id  \\\n",
       "count   1.345000e+03   1345.000000    1345.000000   \n",
       "unique           NaN           NaN            NaN   \n",
       "top              NaN           NaN            NaN   \n",
       "freq             NaN           NaN            NaN   \n",
       "mean    7.551702e+07  62942.318959  113724.494424   \n",
       "std     1.015501e+04  30907.057422     958.062263   \n",
       "min     7.550082e+07     60.000000  109149.000000   \n",
       "25%     7.550770e+07  37224.000000  112953.000000   \n",
       "50%     7.551738e+07  82478.000000  113738.000000   \n",
       "75%     7.552611e+07  89872.000000  114542.000000   \n",
       "max     7.553392e+07  94225.000000  115359.000000   \n",
       "\n",
       "       Session default channel group payment_date  is_ftd  payment_amount  \n",
       "count                           1087         1345   240.0     1345.000000  \n",
       "unique                             9           31     NaN             NaN  \n",
       "top                           Direct     1/3/2024     NaN             NaN  \n",
       "freq                             563           75     NaN             NaN  \n",
       "mean                             NaN          NaN     1.0     1027.546647  \n",
       "std                              NaN          NaN     0.0     7128.602300  \n",
       "min                              NaN          NaN     1.0       49.000000  \n",
       "25%                              NaN          NaN     1.0       51.500000  \n",
       "50%                              NaN          NaN     1.0      102.500000  \n",
       "75%                              NaN          NaN     1.0      200.000000  \n",
       "max                              NaN          NaN     1.0   176290.750000  "
      ]
     },
     "metadata": {},
     "output_type": "display_data"
    },
    {
     "name": "stdout",
     "output_type": "stream",
     "text": [
      "-------------\n",
      "\u001b[1mКатегориальные признаки:\u001b[0m\n"
     ]
    },
    {
     "data": {
      "text/html": [
       "<div>\n",
       "<style scoped>\n",
       "    .dataframe tbody tr th:only-of-type {\n",
       "        vertical-align: middle;\n",
       "    }\n",
       "\n",
       "    .dataframe tbody tr th {\n",
       "        vertical-align: top;\n",
       "    }\n",
       "\n",
       "    .dataframe thead th {\n",
       "        text-align: right;\n",
       "    }\n",
       "</style>\n",
       "<table border=\"1\" class=\"dataframe\">\n",
       "  <thead>\n",
       "    <tr style=\"text-align: right;\">\n",
       "      <th></th>\n",
       "      <th>Session default channel group</th>\n",
       "      <th>payment_date</th>\n",
       "    </tr>\n",
       "  </thead>\n",
       "  <tbody>\n",
       "    <tr>\n",
       "      <th>count</th>\n",
       "      <td>1087</td>\n",
       "      <td>1345</td>\n",
       "    </tr>\n",
       "    <tr>\n",
       "      <th>unique</th>\n",
       "      <td>9</td>\n",
       "      <td>31</td>\n",
       "    </tr>\n",
       "    <tr>\n",
       "      <th>top</th>\n",
       "      <td>Direct</td>\n",
       "      <td>1/3/2024</td>\n",
       "    </tr>\n",
       "    <tr>\n",
       "      <th>freq</th>\n",
       "      <td>563</td>\n",
       "      <td>75</td>\n",
       "    </tr>\n",
       "  </tbody>\n",
       "</table>\n",
       "</div>"
      ],
      "text/plain": [
       "       Session default channel group payment_date\n",
       "count                           1087         1345\n",
       "unique                             9           31\n",
       "top                           Direct     1/3/2024\n",
       "freq                             563           75"
      ]
     },
     "metadata": {},
     "output_type": "display_data"
    },
    {
     "name": "stdout",
     "output_type": "stream",
     "text": [
      "-------------\n",
      "\u001b[1mПропуски:\u001b[0m\n",
      "В столбце payment_id пропусков НЕТ\n",
      "\n",
      "В столбце user_id пропусков НЕТ\n",
      "\n",
      "В столбце invoice_id пропусков НЕТ\n",
      "\n",
      "Столбец Session default channel group имеет 258 пропусков\n",
      "\n",
      "В столбце payment_date пропусков НЕТ\n",
      "\n",
      "Столбец is_ftd имеет 1105 пропусков\n",
      "\n",
      "В столбце payment_amount пропусков НЕТ\n",
      "\n",
      "-------------\n",
      "\u001b[1mДоля пропусков от всех данных:\u001b[0m\n"
     ]
    },
    {
     "data": {
      "text/plain": [
       "is_ftd                           82.156134\n",
       "Session default channel group    19.182156\n",
       "payment_id                        0.000000\n",
       "user_id                           0.000000\n",
       "invoice_id                        0.000000\n",
       "payment_date                      0.000000\n",
       "payment_amount                    0.000000\n",
       "dtype: float64"
      ]
     },
     "metadata": {},
     "output_type": "display_data"
    },
    {
     "name": "stdout",
     "output_type": "stream",
     "text": [
      "-------------\n",
      "\u001b[1mЯвные дубликаты:\u001b[0m\n",
      "Явных дублей НЕТ\n"
     ]
    }
   ],
   "source": [
    "# Функция получения полной информации о датафрейме\n",
    "def data_info (data):\n",
    "    print('\\033[1m' + 'Первые 10 строк:' + '\\033[0m')\n",
    "    display(data.head(10))\n",
    "    print('-------------')\n",
    "    print('\\033[1m' + 'Последние 10 строк:' + '\\033[0m')\n",
    "    display(data.tail(10))\n",
    "    print('-------------')\n",
    "    print('\\033[1m' + 'Типы данных:' + '\\033[0m')\n",
    "    display(data.info(memory_usage='deep'))\n",
    "    print('-------------')\n",
    "    print('\\033[1m' + 'Полное статистическое описание:' + '\\033[0m')\n",
    "    display(data.describe(include = \"all\"))\n",
    "    print('-------------')\n",
    "    print('\\033[1m' + 'Категориальные признаки:' + '\\033[0m')\n",
    "    display(data.describe(include=[object]))\n",
    "    print('-------------')\n",
    "    print('\\033[1m' + 'Пропуски:' + '\\033[0m')\n",
    "    # Обход всех столбцов и проверка наличия пропущенных значений\n",
    "    for i in data.columns:\n",
    "        if data[i].isna().sum() > 0:\n",
    "            print(f\"Столбец {i} имеет {data[i].isna().sum()} пропусков\\n\")\n",
    "        else:\n",
    "            print(f\"В столбце {i} пропусков НЕТ\\n\")\n",
    "    print('-------------')\n",
    "    print('\\033[1m' + 'Доля пропусков от всех данных:' + '\\033[0m')\n",
    "    display(data.isna().mean().sort_values(ascending=False)*100)\n",
    "    print('-------------')\n",
    "    print('\\033[1m' + 'Явные дубликаты:' + '\\033[0m')\n",
    "    if data.duplicated().sum() > 0:\n",
    "        print('Дубликатов: ', data.duplicated().sum())\n",
    "    else:\n",
    "        print('Явных дублей НЕТ')\n",
    "        \n",
    "data_info(df)"
   ]
  },
  {
   "cell_type": "markdown",
   "metadata": {},
   "source": [
    "### Промежуточный вывод\n",
    "1. Всего в таблице было __1345__ строк и __7__ столбцов. Данные за январь 2024 года (31 уникальное значение в колонке `payment_date`).\n",
    "2. Есть некорректное название колонки `Session default channel group`. Здесь 9 уникальных значений - источников трафика.\n",
    "3. В двух полях много пропущенных данных: столбец `Session default channel group` - __258__ пропусков (больше 19% от всего датасета), столбец `is_ftd` - __1105__ пропусков (82%). Удалить, восстановить или заменить такое количество данных нельзя, поэтому, просто не обращаем внимания, оставим эти столбцы без изменения, чтобы не допускать искажения результатов.\n",
    "4. Столбец `is_ftd` содержит значения только \"пропуск\" и 1.0, значит это логический тип и переведём его тип данных в __bool__.\n",
    "5. Ещё нужно поменять типы данных в столбце `payment_date` - дата транзакции, представлен текстовым типом, а должен быть датой. В столбцах `payment_id`, `user_id` и `invoice_id` определены как __int64__, хотя отрицательных значений нет, значит надо в __uint32__. В поле `payment_amount` содержаться суммы транзакций, оставляем __float__, но 32 разряда \"за глаза и за уши\". Остальные колонки оставляем без изменений.\n",
    "6. Пропуски в столбце `Session default channel group` заменим на значение \"__No information__\"."
   ]
  },
  {
   "cell_type": "markdown",
   "metadata": {},
   "source": [
    "## Предобработка данных"
   ]
  },
  {
   "cell_type": "code",
   "execution_count": 4,
   "metadata": {},
   "outputs": [
    {
     "name": "stdout",
     "output_type": "stream",
     "text": [
      "\n",
      "Типы данных:\n",
      "\n",
      "<class 'pandas.core.frame.DataFrame'>\n",
      "RangeIndex: 1345 entries, 0 to 1344\n",
      "Data columns (total 7 columns):\n",
      " #   Column                         Non-Null Count  Dtype         \n",
      "---  ------                         --------------  -----         \n",
      " 0   payment_id                     1345 non-null   uint32        \n",
      " 1   user_id                        1345 non-null   uint32        \n",
      " 2   invoice_id                     1345 non-null   uint32        \n",
      " 3   Session default channel group  1087 non-null   object        \n",
      " 4   payment_date                   1345 non-null   datetime64[ns]\n",
      " 5   is_ftd                         1345 non-null   bool          \n",
      " 6   payment_amount                 1345 non-null   float32       \n",
      "dtypes: bool(1), datetime64[ns](1), float32(1), object(1), uint32(3)\n",
      "memory usage: 102.3 KB\n"
     ]
    },
    {
     "data": {
      "text/plain": [
       "None"
      ]
     },
     "metadata": {},
     "output_type": "display_data"
    }
   ],
   "source": [
    "# Преобразование типа данных колонки 'payment_date' в 'datetime64[D]'\n",
    "df['payment_date'] = pd.to_datetime(df['payment_date'], format='%m/%d/%Y')\n",
    "\n",
    "# Замена пропусков (NaN) в 'is_ftd' на ноль\n",
    "df['is_ftd'] = df['is_ftd'].fillna(0)\n",
    "# Преобразование типа данных в 'bool'\n",
    "df['is_ftd'] = df['is_ftd'].astype(bool)\n",
    "\n",
    "# Изменение других типов данных\n",
    "#df['is_ftd'] = df['is_ftd'].astype(bool)\n",
    "#df['payment_date'] = pd.to_datetime(df['payment_date']).astype('datetime64[D]')\n",
    "df['payment_id'] = df['payment_id'].astype('uint32')\n",
    "df['user_id'] = df['user_id'].astype('uint32')\n",
    "df['invoice_id'] = df['invoice_id'].astype('uint32')\n",
    "df['payment_amount'] = df['payment_amount'].astype('float32')\n",
    "\n",
    "# Посмотрим на результат\n",
    "print('\\nТипы данных:\\n')\n",
    "display(df.info(memory_usage='deep'))"
   ]
  },
  {
   "cell_type": "markdown",
   "metadata": {},
   "source": [
    "Поработаем с источниками данных."
   ]
  },
  {
   "cell_type": "code",
   "execution_count": 5,
   "metadata": {},
   "outputs": [
    {
     "name": "stdout",
     "output_type": "stream",
     "text": [
      "\u001b[1mУникальных источников:\u001b[0m\n",
      "10\n"
     ]
    }
   ],
   "source": [
    "# Изменение названия колонки\n",
    "df.rename(columns={'Session default channel group': 'session_default_channel_group'}, inplace=True)\n",
    "\n",
    "# Заменяем пропущенные значения на \"No information\"\n",
    "df['session_default_channel_group'] = df['session_default_channel_group'].fillna(\"No information\")\n",
    "\n",
    "# Выводим количество уникальных значений\n",
    "print('\\033[1m' + 'Уникальных источников:' + '\\033[0m')\n",
    "print(len(df['session_default_channel_group'].unique()))"
   ]
  },
  {
   "cell_type": "markdown",
   "metadata": {},
   "source": [
    "Дубликаты искать имеет смысл только по номерам инвойсов."
   ]
  },
  {
   "cell_type": "code",
   "execution_count": 6,
   "metadata": {},
   "outputs": [
    {
     "name": "stdout",
     "output_type": "stream",
     "text": [
      "Количество уникальных значений: 1345\n",
      "Количество дубликатов: 0\n",
      "[]\n"
     ]
    }
   ],
   "source": [
    "# Находим уникальные значения в столбце invoice_id\n",
    "unique_invoice_ids = df['invoice_id'].unique()\n",
    "\n",
    "# Фильтруем уникальные значения, чтобы оставить только те, которые встречаются более одного раза\n",
    "duplicate_invoice_ids = [invoice_id for invoice_id in unique_invoice_ids if np.count_nonzero(unique_invoice_ids == invoice_id) > 1]\n",
    "\n",
    "# Выводим количество уникальных значений\n",
    "print(f\"Количество уникальных значений: {len(unique_invoice_ids)}\")\n",
    "\n",
    "# Выводим количество дубликатов\n",
    "print(f\"Количество дубликатов: {len(duplicate_invoice_ids)}\")\n",
    "\n",
    "# Выводим дубликаты\n",
    "print(duplicate_invoice_ids)"
   ]
  },
  {
   "cell_type": "markdown",
   "metadata": {},
   "source": [
    "Ошибок с повторами номеров инвойсов в датасете нет."
   ]
  },
  {
   "cell_type": "markdown",
   "metadata": {},
   "source": [
    "## Анализ данных"
   ]
  },
  {
   "cell_type": "markdown",
   "metadata": {},
   "source": [
    "### Посмотрим на пользователей и трафик"
   ]
  },
  {
   "cell_type": "code",
   "execution_count": 7,
   "metadata": {},
   "outputs": [
    {
     "data": {
      "application/vnd.plotly.v1+json": {
       "config": {
        "plotlyServerURL": "https://plot.ly"
       },
       "data": [
        {
         "alignmentgroup": "True",
         "hovertemplate": "session_default_channel_group=%{x}<br>count=%{text}<extra></extra>",
         "legendgroup": "Organic Social",
         "marker": {
          "color": "#636efa",
          "pattern": {
           "shape": ""
          }
         },
         "name": "Organic Social",
         "offsetgroup": "Organic Social",
         "orientation": "v",
         "showlegend": true,
         "text": [
          3
         ],
         "textposition": "auto",
         "type": "bar",
         "x": [
          "Organic Social"
         ],
         "xaxis": "x",
         "y": [
          3
         ],
         "yaxis": "y"
        },
        {
         "alignmentgroup": "True",
         "hovertemplate": "session_default_channel_group=%{x}<br>count=%{text}<extra></extra>",
         "legendgroup": "Paid Other",
         "marker": {
          "color": "#EF553B",
          "pattern": {
           "shape": ""
          }
         },
         "name": "Paid Other",
         "offsetgroup": "Paid Other",
         "orientation": "v",
         "showlegend": true,
         "text": [
          3
         ],
         "textposition": "auto",
         "type": "bar",
         "x": [
          "Paid Other"
         ],
         "xaxis": "x",
         "y": [
          3
         ],
         "yaxis": "y"
        },
        {
         "alignmentgroup": "True",
         "hovertemplate": "session_default_channel_group=%{x}<br>count=%{text}<extra></extra>",
         "legendgroup": "Email",
         "marker": {
          "color": "#00cc96",
          "pattern": {
           "shape": ""
          }
         },
         "name": "Email",
         "offsetgroup": "Email",
         "orientation": "v",
         "showlegend": true,
         "text": [
          6
         ],
         "textposition": "auto",
         "type": "bar",
         "x": [
          "Email"
         ],
         "xaxis": "x",
         "y": [
          6
         ],
         "yaxis": "y"
        },
        {
         "alignmentgroup": "True",
         "hovertemplate": "session_default_channel_group=%{x}<br>count=%{text}<extra></extra>",
         "legendgroup": "Unassigned",
         "marker": {
          "color": "#ab63fa",
          "pattern": {
           "shape": ""
          }
         },
         "name": "Unassigned",
         "offsetgroup": "Unassigned",
         "orientation": "v",
         "showlegend": true,
         "text": [
          32
         ],
         "textposition": "auto",
         "type": "bar",
         "x": [
          "Unassigned"
         ],
         "xaxis": "x",
         "y": [
          32
         ],
         "yaxis": "y"
        },
        {
         "alignmentgroup": "True",
         "hovertemplate": "session_default_channel_group=%{x}<br>count=%{text}<extra></extra>",
         "legendgroup": "Referral",
         "marker": {
          "color": "#FFA15A",
          "pattern": {
           "shape": ""
          }
         },
         "name": "Referral",
         "offsetgroup": "Referral",
         "orientation": "v",
         "showlegend": true,
         "text": [
          51
         ],
         "textposition": "auto",
         "type": "bar",
         "x": [
          "Referral"
         ],
         "xaxis": "x",
         "y": [
          51
         ],
         "yaxis": "y"
        },
        {
         "alignmentgroup": "True",
         "hovertemplate": "session_default_channel_group=%{x}<br>count=%{text}<extra></extra>",
         "legendgroup": "Cross-network",
         "marker": {
          "color": "#19d3f3",
          "pattern": {
           "shape": ""
          }
         },
         "name": "Cross-network",
         "offsetgroup": "Cross-network",
         "orientation": "v",
         "showlegend": true,
         "text": [
          56
         ],
         "textposition": "auto",
         "type": "bar",
         "x": [
          "Cross-network"
         ],
         "xaxis": "x",
         "y": [
          56
         ],
         "yaxis": "y"
        },
        {
         "alignmentgroup": "True",
         "hovertemplate": "session_default_channel_group=%{x}<br>count=%{text}<extra></extra>",
         "legendgroup": "Organic Search",
         "marker": {
          "color": "#FF6692",
          "pattern": {
           "shape": ""
          }
         },
         "name": "Organic Search",
         "offsetgroup": "Organic Search",
         "orientation": "v",
         "showlegend": true,
         "text": [
          152
         ],
         "textposition": "auto",
         "type": "bar",
         "x": [
          "Organic Search"
         ],
         "xaxis": "x",
         "y": [
          152
         ],
         "yaxis": "y"
        },
        {
         "alignmentgroup": "True",
         "hovertemplate": "session_default_channel_group=%{x}<br>count=%{text}<extra></extra>",
         "legendgroup": "Paid Search",
         "marker": {
          "color": "#B6E880",
          "pattern": {
           "shape": ""
          }
         },
         "name": "Paid Search",
         "offsetgroup": "Paid Search",
         "orientation": "v",
         "showlegend": true,
         "text": [
          221
         ],
         "textposition": "auto",
         "type": "bar",
         "x": [
          "Paid Search"
         ],
         "xaxis": "x",
         "y": [
          221
         ],
         "yaxis": "y"
        },
        {
         "alignmentgroup": "True",
         "hovertemplate": "session_default_channel_group=%{x}<br>count=%{text}<extra></extra>",
         "legendgroup": "No information",
         "marker": {
          "color": "#FF97FF",
          "pattern": {
           "shape": ""
          }
         },
         "name": "No information",
         "offsetgroup": "No information",
         "orientation": "v",
         "showlegend": true,
         "text": [
          258
         ],
         "textposition": "auto",
         "type": "bar",
         "x": [
          "No information"
         ],
         "xaxis": "x",
         "y": [
          258
         ],
         "yaxis": "y"
        },
        {
         "alignmentgroup": "True",
         "hovertemplate": "session_default_channel_group=%{x}<br>count=%{text}<extra></extra>",
         "legendgroup": "Direct",
         "marker": {
          "color": "#FECB52",
          "pattern": {
           "shape": ""
          }
         },
         "name": "Direct",
         "offsetgroup": "Direct",
         "orientation": "v",
         "showlegend": true,
         "text": [
          563
         ],
         "textposition": "auto",
         "type": "bar",
         "x": [
          "Direct"
         ],
         "xaxis": "x",
         "y": [
          563
         ],
         "yaxis": "y"
        }
       ],
       "layout": {
        "barmode": "relative",
        "legend": {
         "title": {
          "text": "session_default_channel_group"
         },
         "tracegroupgap": 0
        },
        "margin": {
         "t": 60
        },
        "template": {
         "data": {
          "bar": [
           {
            "error_x": {
             "color": "#2a3f5f"
            },
            "error_y": {
             "color": "#2a3f5f"
            },
            "marker": {
             "line": {
              "color": "#E5ECF6",
              "width": 0.5
             },
             "pattern": {
              "fillmode": "overlay",
              "size": 10,
              "solidity": 0.2
             }
            },
            "type": "bar"
           }
          ],
          "barpolar": [
           {
            "marker": {
             "line": {
              "color": "#E5ECF6",
              "width": 0.5
             },
             "pattern": {
              "fillmode": "overlay",
              "size": 10,
              "solidity": 0.2
             }
            },
            "type": "barpolar"
           }
          ],
          "carpet": [
           {
            "aaxis": {
             "endlinecolor": "#2a3f5f",
             "gridcolor": "white",
             "linecolor": "white",
             "minorgridcolor": "white",
             "startlinecolor": "#2a3f5f"
            },
            "baxis": {
             "endlinecolor": "#2a3f5f",
             "gridcolor": "white",
             "linecolor": "white",
             "minorgridcolor": "white",
             "startlinecolor": "#2a3f5f"
            },
            "type": "carpet"
           }
          ],
          "choropleth": [
           {
            "colorbar": {
             "outlinewidth": 0,
             "ticks": ""
            },
            "type": "choropleth"
           }
          ],
          "contour": [
           {
            "colorbar": {
             "outlinewidth": 0,
             "ticks": ""
            },
            "colorscale": [
             [
              0,
              "#0d0887"
             ],
             [
              0.1111111111111111,
              "#46039f"
             ],
             [
              0.2222222222222222,
              "#7201a8"
             ],
             [
              0.3333333333333333,
              "#9c179e"
             ],
             [
              0.4444444444444444,
              "#bd3786"
             ],
             [
              0.5555555555555556,
              "#d8576b"
             ],
             [
              0.6666666666666666,
              "#ed7953"
             ],
             [
              0.7777777777777778,
              "#fb9f3a"
             ],
             [
              0.8888888888888888,
              "#fdca26"
             ],
             [
              1,
              "#f0f921"
             ]
            ],
            "type": "contour"
           }
          ],
          "contourcarpet": [
           {
            "colorbar": {
             "outlinewidth": 0,
             "ticks": ""
            },
            "type": "contourcarpet"
           }
          ],
          "heatmap": [
           {
            "colorbar": {
             "outlinewidth": 0,
             "ticks": ""
            },
            "colorscale": [
             [
              0,
              "#0d0887"
             ],
             [
              0.1111111111111111,
              "#46039f"
             ],
             [
              0.2222222222222222,
              "#7201a8"
             ],
             [
              0.3333333333333333,
              "#9c179e"
             ],
             [
              0.4444444444444444,
              "#bd3786"
             ],
             [
              0.5555555555555556,
              "#d8576b"
             ],
             [
              0.6666666666666666,
              "#ed7953"
             ],
             [
              0.7777777777777778,
              "#fb9f3a"
             ],
             [
              0.8888888888888888,
              "#fdca26"
             ],
             [
              1,
              "#f0f921"
             ]
            ],
            "type": "heatmap"
           }
          ],
          "heatmapgl": [
           {
            "colorbar": {
             "outlinewidth": 0,
             "ticks": ""
            },
            "colorscale": [
             [
              0,
              "#0d0887"
             ],
             [
              0.1111111111111111,
              "#46039f"
             ],
             [
              0.2222222222222222,
              "#7201a8"
             ],
             [
              0.3333333333333333,
              "#9c179e"
             ],
             [
              0.4444444444444444,
              "#bd3786"
             ],
             [
              0.5555555555555556,
              "#d8576b"
             ],
             [
              0.6666666666666666,
              "#ed7953"
             ],
             [
              0.7777777777777778,
              "#fb9f3a"
             ],
             [
              0.8888888888888888,
              "#fdca26"
             ],
             [
              1,
              "#f0f921"
             ]
            ],
            "type": "heatmapgl"
           }
          ],
          "histogram": [
           {
            "marker": {
             "pattern": {
              "fillmode": "overlay",
              "size": 10,
              "solidity": 0.2
             }
            },
            "type": "histogram"
           }
          ],
          "histogram2d": [
           {
            "colorbar": {
             "outlinewidth": 0,
             "ticks": ""
            },
            "colorscale": [
             [
              0,
              "#0d0887"
             ],
             [
              0.1111111111111111,
              "#46039f"
             ],
             [
              0.2222222222222222,
              "#7201a8"
             ],
             [
              0.3333333333333333,
              "#9c179e"
             ],
             [
              0.4444444444444444,
              "#bd3786"
             ],
             [
              0.5555555555555556,
              "#d8576b"
             ],
             [
              0.6666666666666666,
              "#ed7953"
             ],
             [
              0.7777777777777778,
              "#fb9f3a"
             ],
             [
              0.8888888888888888,
              "#fdca26"
             ],
             [
              1,
              "#f0f921"
             ]
            ],
            "type": "histogram2d"
           }
          ],
          "histogram2dcontour": [
           {
            "colorbar": {
             "outlinewidth": 0,
             "ticks": ""
            },
            "colorscale": [
             [
              0,
              "#0d0887"
             ],
             [
              0.1111111111111111,
              "#46039f"
             ],
             [
              0.2222222222222222,
              "#7201a8"
             ],
             [
              0.3333333333333333,
              "#9c179e"
             ],
             [
              0.4444444444444444,
              "#bd3786"
             ],
             [
              0.5555555555555556,
              "#d8576b"
             ],
             [
              0.6666666666666666,
              "#ed7953"
             ],
             [
              0.7777777777777778,
              "#fb9f3a"
             ],
             [
              0.8888888888888888,
              "#fdca26"
             ],
             [
              1,
              "#f0f921"
             ]
            ],
            "type": "histogram2dcontour"
           }
          ],
          "mesh3d": [
           {
            "colorbar": {
             "outlinewidth": 0,
             "ticks": ""
            },
            "type": "mesh3d"
           }
          ],
          "parcoords": [
           {
            "line": {
             "colorbar": {
              "outlinewidth": 0,
              "ticks": ""
             }
            },
            "type": "parcoords"
           }
          ],
          "pie": [
           {
            "automargin": true,
            "type": "pie"
           }
          ],
          "scatter": [
           {
            "fillpattern": {
             "fillmode": "overlay",
             "size": 10,
             "solidity": 0.2
            },
            "type": "scatter"
           }
          ],
          "scatter3d": [
           {
            "line": {
             "colorbar": {
              "outlinewidth": 0,
              "ticks": ""
             }
            },
            "marker": {
             "colorbar": {
              "outlinewidth": 0,
              "ticks": ""
             }
            },
            "type": "scatter3d"
           }
          ],
          "scattercarpet": [
           {
            "marker": {
             "colorbar": {
              "outlinewidth": 0,
              "ticks": ""
             }
            },
            "type": "scattercarpet"
           }
          ],
          "scattergeo": [
           {
            "marker": {
             "colorbar": {
              "outlinewidth": 0,
              "ticks": ""
             }
            },
            "type": "scattergeo"
           }
          ],
          "scattergl": [
           {
            "marker": {
             "colorbar": {
              "outlinewidth": 0,
              "ticks": ""
             }
            },
            "type": "scattergl"
           }
          ],
          "scattermapbox": [
           {
            "marker": {
             "colorbar": {
              "outlinewidth": 0,
              "ticks": ""
             }
            },
            "type": "scattermapbox"
           }
          ],
          "scatterpolar": [
           {
            "marker": {
             "colorbar": {
              "outlinewidth": 0,
              "ticks": ""
             }
            },
            "type": "scatterpolar"
           }
          ],
          "scatterpolargl": [
           {
            "marker": {
             "colorbar": {
              "outlinewidth": 0,
              "ticks": ""
             }
            },
            "type": "scatterpolargl"
           }
          ],
          "scatterternary": [
           {
            "marker": {
             "colorbar": {
              "outlinewidth": 0,
              "ticks": ""
             }
            },
            "type": "scatterternary"
           }
          ],
          "surface": [
           {
            "colorbar": {
             "outlinewidth": 0,
             "ticks": ""
            },
            "colorscale": [
             [
              0,
              "#0d0887"
             ],
             [
              0.1111111111111111,
              "#46039f"
             ],
             [
              0.2222222222222222,
              "#7201a8"
             ],
             [
              0.3333333333333333,
              "#9c179e"
             ],
             [
              0.4444444444444444,
              "#bd3786"
             ],
             [
              0.5555555555555556,
              "#d8576b"
             ],
             [
              0.6666666666666666,
              "#ed7953"
             ],
             [
              0.7777777777777778,
              "#fb9f3a"
             ],
             [
              0.8888888888888888,
              "#fdca26"
             ],
             [
              1,
              "#f0f921"
             ]
            ],
            "type": "surface"
           }
          ],
          "table": [
           {
            "cells": {
             "fill": {
              "color": "#EBF0F8"
             },
             "line": {
              "color": "white"
             }
            },
            "header": {
             "fill": {
              "color": "#C8D4E3"
             },
             "line": {
              "color": "white"
             }
            },
            "type": "table"
           }
          ]
         },
         "layout": {
          "annotationdefaults": {
           "arrowcolor": "#2a3f5f",
           "arrowhead": 0,
           "arrowwidth": 1
          },
          "autotypenumbers": "strict",
          "coloraxis": {
           "colorbar": {
            "outlinewidth": 0,
            "ticks": ""
           }
          },
          "colorscale": {
           "diverging": [
            [
             0,
             "#8e0152"
            ],
            [
             0.1,
             "#c51b7d"
            ],
            [
             0.2,
             "#de77ae"
            ],
            [
             0.3,
             "#f1b6da"
            ],
            [
             0.4,
             "#fde0ef"
            ],
            [
             0.5,
             "#f7f7f7"
            ],
            [
             0.6,
             "#e6f5d0"
            ],
            [
             0.7,
             "#b8e186"
            ],
            [
             0.8,
             "#7fbc41"
            ],
            [
             0.9,
             "#4d9221"
            ],
            [
             1,
             "#276419"
            ]
           ],
           "sequential": [
            [
             0,
             "#0d0887"
            ],
            [
             0.1111111111111111,
             "#46039f"
            ],
            [
             0.2222222222222222,
             "#7201a8"
            ],
            [
             0.3333333333333333,
             "#9c179e"
            ],
            [
             0.4444444444444444,
             "#bd3786"
            ],
            [
             0.5555555555555556,
             "#d8576b"
            ],
            [
             0.6666666666666666,
             "#ed7953"
            ],
            [
             0.7777777777777778,
             "#fb9f3a"
            ],
            [
             0.8888888888888888,
             "#fdca26"
            ],
            [
             1,
             "#f0f921"
            ]
           ],
           "sequentialminus": [
            [
             0,
             "#0d0887"
            ],
            [
             0.1111111111111111,
             "#46039f"
            ],
            [
             0.2222222222222222,
             "#7201a8"
            ],
            [
             0.3333333333333333,
             "#9c179e"
            ],
            [
             0.4444444444444444,
             "#bd3786"
            ],
            [
             0.5555555555555556,
             "#d8576b"
            ],
            [
             0.6666666666666666,
             "#ed7953"
            ],
            [
             0.7777777777777778,
             "#fb9f3a"
            ],
            [
             0.8888888888888888,
             "#fdca26"
            ],
            [
             1,
             "#f0f921"
            ]
           ]
          },
          "colorway": [
           "#636efa",
           "#EF553B",
           "#00cc96",
           "#ab63fa",
           "#FFA15A",
           "#19d3f3",
           "#FF6692",
           "#B6E880",
           "#FF97FF",
           "#FECB52"
          ],
          "font": {
           "color": "#2a3f5f"
          },
          "geo": {
           "bgcolor": "white",
           "lakecolor": "white",
           "landcolor": "#E5ECF6",
           "showlakes": true,
           "showland": true,
           "subunitcolor": "white"
          },
          "hoverlabel": {
           "align": "left"
          },
          "hovermode": "closest",
          "mapbox": {
           "style": "light"
          },
          "paper_bgcolor": "white",
          "plot_bgcolor": "#E5ECF6",
          "polar": {
           "angularaxis": {
            "gridcolor": "white",
            "linecolor": "white",
            "ticks": ""
           },
           "bgcolor": "#E5ECF6",
           "radialaxis": {
            "gridcolor": "white",
            "linecolor": "white",
            "ticks": ""
           }
          },
          "scene": {
           "xaxis": {
            "backgroundcolor": "#E5ECF6",
            "gridcolor": "white",
            "gridwidth": 2,
            "linecolor": "white",
            "showbackground": true,
            "ticks": "",
            "zerolinecolor": "white"
           },
           "yaxis": {
            "backgroundcolor": "#E5ECF6",
            "gridcolor": "white",
            "gridwidth": 2,
            "linecolor": "white",
            "showbackground": true,
            "ticks": "",
            "zerolinecolor": "white"
           },
           "zaxis": {
            "backgroundcolor": "#E5ECF6",
            "gridcolor": "white",
            "gridwidth": 2,
            "linecolor": "white",
            "showbackground": true,
            "ticks": "",
            "zerolinecolor": "white"
           }
          },
          "shapedefaults": {
           "line": {
            "color": "#2a3f5f"
           }
          },
          "ternary": {
           "aaxis": {
            "gridcolor": "white",
            "linecolor": "white",
            "ticks": ""
           },
           "baxis": {
            "gridcolor": "white",
            "linecolor": "white",
            "ticks": ""
           },
           "bgcolor": "#E5ECF6",
           "caxis": {
            "gridcolor": "white",
            "linecolor": "white",
            "ticks": ""
           }
          },
          "title": {
           "x": 0.05
          },
          "xaxis": {
           "automargin": true,
           "gridcolor": "white",
           "linecolor": "white",
           "ticks": "",
           "title": {
            "standoff": 15
           },
           "zerolinecolor": "white",
           "zerolinewidth": 2
          },
          "yaxis": {
           "automargin": true,
           "gridcolor": "white",
           "linecolor": "white",
           "ticks": "",
           "title": {
            "standoff": 15
           },
           "zerolinecolor": "white",
           "zerolinewidth": 2
          }
         }
        },
        "title": {
         "text": "Источники трафика"
        },
        "xaxis": {
         "anchor": "y",
         "categoryarray": [
          "Organic Social",
          "Paid Other",
          "Email",
          "Unassigned",
          "Referral",
          "Cross-network",
          "Organic Search",
          "Paid Search",
          "No information",
          "Direct"
         ],
         "categoryorder": "array",
         "domain": [
          0,
          1
         ],
         "title": {
          "text": "Источники"
         }
        },
        "yaxis": {
         "anchor": "x",
         "domain": [
          0,
          1
         ],
         "title": {
          "text": "Количество  пользователей"
         }
        }
       }
      }
     },
     "metadata": {},
     "output_type": "display_data"
    }
   ],
   "source": [
    "# Посмотрим на количество количество пользователей по источникам трафика\n",
    "source = (df.groupby('session_default_channel_group')['user_id']\n",
    "                 .count()\n",
    "                 .reset_index()\n",
    "                 .rename(columns={'user_id': 'count'})\n",
    "                 .sort_values(by='count', ascending=False))\n",
    "\n",
    "# Построим диаграмму видов заведений\n",
    "fig = px.bar(source.sort_values(by='count'), \n",
    "             x='session_default_channel_group', \n",
    "             y='count', \n",
    "             text='count',\n",
    "             color='session_default_channel_group')\n",
    "\n",
    "fig.update_layout(title='Источники трафика',\n",
    "                  xaxis_title='Источники',\n",
    "                  yaxis_title='Количество  пользователей')\n",
    "fig.show()"
   ]
  },
  {
   "cell_type": "code",
   "execution_count": 8,
   "metadata": {},
   "outputs": [
    {
     "data": {
      "image/png": "[encoded data removed]",
      "text/plain": [
       "<Figure size 640x480 with 1 Axes>"
      ]
     },
     "metadata": {},
     "output_type": "display_data"
    }
   ],
   "source": [
    "# Построим круговую диаграмму долей источников трафика\n",
    "fig1, ax1 = plt.subplots()\n",
    "ax1.pie(source['count'], labels=source['session_default_channel_group'], autopct='%1.1f%%')\n",
    "ax1.axis('equal')  # чтобы круг был кругом\n",
    "\n",
    "# Отображение диаграммы\n",
    "plt.title('Доли пользователей в источниках трафика')\n",
    "plt.show()"
   ]
  },
  {
   "cell_type": "markdown",
   "metadata": {},
   "source": [
    "Здесь видно, что некатегоризированный трафик на втором месте по количеству пользователей, а на первом месте прямые заходы - **Direct**, видимо, из сохранённых закладок в браузерах."
   ]
  },
  {
   "cell_type": "markdown",
   "metadata": {},
   "source": [
    "### Посмотрим на платежи и трафик"
   ]
  },
  {
   "cell_type": "code",
   "execution_count": 9,
   "metadata": {},
   "outputs": [
    {
     "data": {
      "application/vnd.plotly.v1+json": {
       "config": {
        "plotlyServerURL": "https://plot.ly"
       },
       "data": [
        {
         "alignmentgroup": "True",
         "hovertemplate": "session_default_channel_group=%{x}<br>summa=%{text}<extra></extra>",
         "legendgroup": "Paid Other",
         "marker": {
          "color": "#636efa",
          "pattern": {
           "shape": ""
          }
         },
         "name": "Paid Other",
         "offsetgroup": "Paid Other",
         "orientation": "v",
         "showlegend": true,
         "text": [
          "150.00"
         ],
         "textposition": "auto",
         "type": "bar",
         "x": [
          "Paid Other"
         ],
         "xaxis": "x",
         "y": [
          "150.00"
         ],
         "yaxis": "y"
        },
        {
         "alignmentgroup": "True",
         "hovertemplate": "session_default_channel_group=%{x}<br>summa=%{text}<extra></extra>",
         "legendgroup": "Email",
         "marker": {
          "color": "#EF553B",
          "pattern": {
           "shape": ""
          }
         },
         "name": "Email",
         "offsetgroup": "Email",
         "orientation": "v",
         "showlegend": true,
         "text": [
          "555.95"
         ],
         "textposition": "auto",
         "type": "bar",
         "x": [
          "Email"
         ],
         "xaxis": "x",
         "y": [
          "555.95"
         ],
         "yaxis": "y"
        },
        {
         "alignmentgroup": "True",
         "hovertemplate": "session_default_channel_group=%{x}<br>summa=%{text}<extra></extra>",
         "legendgroup": "Organic Social",
         "marker": {
          "color": "#00cc96",
          "pattern": {
           "shape": ""
          }
         },
         "name": "Organic Social",
         "offsetgroup": "Organic Social",
         "orientation": "v",
         "showlegend": true,
         "text": [
          "1200.00"
         ],
         "textposition": "auto",
         "type": "bar",
         "x": [
          "Organic Social"
         ],
         "xaxis": "x",
         "y": [
          "1200.00"
         ],
         "yaxis": "y"
        },
        {
         "alignmentgroup": "True",
         "hovertemplate": "session_default_channel_group=%{x}<br>summa=%{text}<extra></extra>",
         "legendgroup": "Unassigned",
         "marker": {
          "color": "#ab63fa",
          "pattern": {
           "shape": ""
          }
         },
         "name": "Unassigned",
         "offsetgroup": "Unassigned",
         "orientation": "v",
         "showlegend": true,
         "text": [
          "2028.30"
         ],
         "textposition": "auto",
         "type": "bar",
         "x": [
          "Unassigned"
         ],
         "xaxis": "x",
         "y": [
          "2028.30"
         ],
         "yaxis": "y"
        },
        {
         "alignmentgroup": "True",
         "hovertemplate": "session_default_channel_group=%{x}<br>summa=%{text}<extra></extra>",
         "legendgroup": "Cross-network",
         "marker": {
          "color": "#FFA15A",
          "pattern": {
           "shape": ""
          }
         },
         "name": "Cross-network",
         "offsetgroup": "Cross-network",
         "orientation": "v",
         "showlegend": true,
         "text": [
          "5614.87"
         ],
         "textposition": "auto",
         "type": "bar",
         "x": [
          "Cross-network"
         ],
         "xaxis": "x",
         "y": [
          "5614.87"
         ],
         "yaxis": "y"
        },
        {
         "alignmentgroup": "True",
         "hovertemplate": "session_default_channel_group=%{x}<br>summa=%{text}<extra></extra>",
         "legendgroup": "Referral",
         "marker": {
          "color": "#19d3f3",
          "pattern": {
           "shape": ""
          }
         },
         "name": "Referral",
         "offsetgroup": "Referral",
         "orientation": "v",
         "showlegend": true,
         "text": [
          "7671.25"
         ],
         "textposition": "auto",
         "type": "bar",
         "x": [
          "Referral"
         ],
         "xaxis": "x",
         "y": [
          "7671.25"
         ],
         "yaxis": "y"
        },
        {
         "alignmentgroup": "True",
         "hovertemplate": "session_default_channel_group=%{x}<br>summa=%{text}<extra></extra>",
         "legendgroup": "Paid Search",
         "marker": {
          "color": "#FF6692",
          "pattern": {
           "shape": ""
          }
         },
         "name": "Paid Search",
         "offsetgroup": "Paid Search",
         "orientation": "v",
         "showlegend": true,
         "text": [
          "42174.98"
         ],
         "textposition": "auto",
         "type": "bar",
         "x": [
          "Paid Search"
         ],
         "xaxis": "x",
         "y": [
          "42174.98"
         ],
         "yaxis": "y"
        },
        {
         "alignmentgroup": "True",
         "hovertemplate": "session_default_channel_group=%{x}<br>summa=%{text}<extra></extra>",
         "legendgroup": "Organic Search",
         "marker": {
          "color": "#B6E880",
          "pattern": {
           "shape": ""
          }
         },
         "name": "Organic Search",
         "offsetgroup": "Organic Search",
         "orientation": "v",
         "showlegend": true,
         "text": [
          "72641.74"
         ],
         "textposition": "auto",
         "type": "bar",
         "x": [
          "Organic Search"
         ],
         "xaxis": "x",
         "y": [
          "72641.74"
         ],
         "yaxis": "y"
        },
        {
         "alignmentgroup": "True",
         "hovertemplate": "session_default_channel_group=%{x}<br>summa=%{text}<extra></extra>",
         "legendgroup": "Direct",
         "marker": {
          "color": "#FF97FF",
          "pattern": {
           "shape": ""
          }
         },
         "name": "Direct",
         "offsetgroup": "Direct",
         "orientation": "v",
         "showlegend": true,
         "text": [
          "173313.38"
         ],
         "textposition": "auto",
         "type": "bar",
         "x": [
          "Direct"
         ],
         "xaxis": "x",
         "y": [
          "173313.38"
         ],
         "yaxis": "y"
        },
        {
         "alignmentgroup": "True",
         "hovertemplate": "session_default_channel_group=%{x}<br>summa=%{text}<extra></extra>",
         "legendgroup": "No information",
         "marker": {
          "color": "#FECB52",
          "pattern": {
           "shape": ""
          }
         },
         "name": "No information",
         "offsetgroup": "No information",
         "orientation": "v",
         "showlegend": true,
         "text": [
          "1076699.75"
         ],
         "textposition": "auto",
         "type": "bar",
         "x": [
          "No information"
         ],
         "xaxis": "x",
         "y": [
          "1076699.75"
         ],
         "yaxis": "y"
        }
       ],
       "layout": {
        "barmode": "relative",
        "legend": {
         "title": {
          "text": "session_default_channel_group"
         },
         "tracegroupgap": 0
        },
        "margin": {
         "t": 60
        },
        "template": {
         "data": {
          "bar": [
           {
            "error_x": {
             "color": "#2a3f5f"
            },
            "error_y": {
             "color": "#2a3f5f"
            },
            "marker": {
             "line": {
              "color": "#E5ECF6",
              "width": 0.5
             },
             "pattern": {
              "fillmode": "overlay",
              "size": 10,
              "solidity": 0.2
             }
            },
            "type": "bar"
           }
          ],
          "barpolar": [
           {
            "marker": {
             "line": {
              "color": "#E5ECF6",
              "width": 0.5
             },
             "pattern": {
              "fillmode": "overlay",
              "size": 10,
              "solidity": 0.2
             }
            },
            "type": "barpolar"
           }
          ],
          "carpet": [
           {
            "aaxis": {
             "endlinecolor": "#2a3f5f",
             "gridcolor": "white",
             "linecolor": "white",
             "minorgridcolor": "white",
             "startlinecolor": "#2a3f5f"
            },
            "baxis": {
             "endlinecolor": "#2a3f5f",
             "gridcolor": "white",
             "linecolor": "white",
             "minorgridcolor": "white",
             "startlinecolor": "#2a3f5f"
            },
            "type": "carpet"
           }
          ],
          "choropleth": [
           {
            "colorbar": {
             "outlinewidth": 0,
             "ticks": ""
            },
            "type": "choropleth"
           }
          ],
          "contour": [
           {
            "colorbar": {
             "outlinewidth": 0,
             "ticks": ""
            },
            "colorscale": [
             [
              0,
              "#0d0887"
             ],
             [
              0.1111111111111111,
              "#46039f"
             ],
             [
              0.2222222222222222,
              "#7201a8"
             ],
             [
              0.3333333333333333,
              "#9c179e"
             ],
             [
              0.4444444444444444,
              "#bd3786"
             ],
             [
              0.5555555555555556,
              "#d8576b"
             ],
             [
              0.6666666666666666,
              "#ed7953"
             ],
             [
              0.7777777777777778,
              "#fb9f3a"
             ],
             [
              0.8888888888888888,
              "#fdca26"
             ],
             [
              1,
              "#f0f921"
             ]
            ],
            "type": "contour"
           }
          ],
          "contourcarpet": [
           {
            "colorbar": {
             "outlinewidth": 0,
             "ticks": ""
            },
            "type": "contourcarpet"
           }
          ],
          "heatmap": [
           {
            "colorbar": {
             "outlinewidth": 0,
             "ticks": ""
            },
            "colorscale": [
             [
              0,
              "#0d0887"
             ],
             [
              0.1111111111111111,
              "#46039f"
             ],
             [
              0.2222222222222222,
              "#7201a8"
             ],
             [
              0.3333333333333333,
              "#9c179e"
             ],
             [
              0.4444444444444444,
              "#bd3786"
             ],
             [
              0.5555555555555556,
              "#d8576b"
             ],
             [
              0.6666666666666666,
              "#ed7953"
             ],
             [
              0.7777777777777778,
              "#fb9f3a"
             ],
             [
              0.8888888888888888,
              "#fdca26"
             ],
             [
              1,
              "#f0f921"
             ]
            ],
            "type": "heatmap"
           }
          ],
          "heatmapgl": [
           {
            "colorbar": {
             "outlinewidth": 0,
             "ticks": ""
            },
            "colorscale": [
             [
              0,
              "#0d0887"
             ],
             [
              0.1111111111111111,
              "#46039f"
             ],
             [
              0.2222222222222222,
              "#7201a8"
             ],
             [
              0.3333333333333333,
              "#9c179e"
             ],
             [
              0.4444444444444444,
              "#bd3786"
             ],
             [
              0.5555555555555556,
              "#d8576b"
             ],
             [
              0.6666666666666666,
              "#ed7953"
             ],
             [
              0.7777777777777778,
              "#fb9f3a"
             ],
             [
              0.8888888888888888,
              "#fdca26"
             ],
             [
              1,
              "#f0f921"
             ]
            ],
            "type": "heatmapgl"
           }
          ],
          "histogram": [
           {
            "marker": {
             "pattern": {
              "fillmode": "overlay",
              "size": 10,
              "solidity": 0.2
             }
            },
            "type": "histogram"
           }
          ],
          "histogram2d": [
           {
            "colorbar": {
             "outlinewidth": 0,
             "ticks": ""
            },
            "colorscale": [
             [
              0,
              "#0d0887"
             ],
             [
              0.1111111111111111,
              "#46039f"
             ],
             [
              0.2222222222222222,
              "#7201a8"
             ],
             [
              0.3333333333333333,
              "#9c179e"
             ],
             [
              0.4444444444444444,
              "#bd3786"
             ],
             [
              0.5555555555555556,
              "#d8576b"
             ],
             [
              0.6666666666666666,
              "#ed7953"
             ],
             [
              0.7777777777777778,
              "#fb9f3a"
             ],
             [
              0.8888888888888888,
              "#fdca26"
             ],
             [
              1,
              "#f0f921"
             ]
            ],
            "type": "histogram2d"
           }
          ],
          "histogram2dcontour": [
           {
            "colorbar": {
             "outlinewidth": 0,
             "ticks": ""
            },
            "colorscale": [
             [
              0,
              "#0d0887"
             ],
             [
              0.1111111111111111,
              "#46039f"
             ],
             [
              0.2222222222222222,
              "#7201a8"
             ],
             [
              0.3333333333333333,
              "#9c179e"
             ],
             [
              0.4444444444444444,
              "#bd3786"
             ],
             [
              0.5555555555555556,
              "#d8576b"
             ],
             [
              0.6666666666666666,
              "#ed7953"
             ],
             [
              0.7777777777777778,
              "#fb9f3a"
             ],
             [
              0.8888888888888888,
              "#fdca26"
             ],
             [
              1,
              "#f0f921"
             ]
            ],
            "type": "histogram2dcontour"
           }
          ],
          "mesh3d": [
           {
            "colorbar": {
             "outlinewidth": 0,
             "ticks": ""
            },
            "type": "mesh3d"
           }
          ],
          "parcoords": [
           {
            "line": {
             "colorbar": {
              "outlinewidth": 0,
              "ticks": ""
             }
            },
            "type": "parcoords"
           }
          ],
          "pie": [
           {
            "automargin": true,
            "type": "pie"
           }
          ],
          "scatter": [
           {
            "fillpattern": {
             "fillmode": "overlay",
             "size": 10,
             "solidity": 0.2
            },
            "type": "scatter"
           }
          ],
          "scatter3d": [
           {
            "line": {
             "colorbar": {
              "outlinewidth": 0,
              "ticks": ""
             }
            },
            "marker": {
             "colorbar": {
              "outlinewidth": 0,
              "ticks": ""
             }
            },
            "type": "scatter3d"
           }
          ],
          "scattercarpet": [
           {
            "marker": {
             "colorbar": {
              "outlinewidth": 0,
              "ticks": ""
             }
            },
            "type": "scattercarpet"
           }
          ],
          "scattergeo": [
           {
            "marker": {
             "colorbar": {
              "outlinewidth": 0,
              "ticks": ""
             }
            },
            "type": "scattergeo"
           }
          ],
          "scattergl": [
           {
            "marker": {
             "colorbar": {
              "outlinewidth": 0,
              "ticks": ""
             }
            },
            "type": "scattergl"
           }
          ],
          "scattermapbox": [
           {
            "marker": {
             "colorbar": {
              "outlinewidth": 0,
              "ticks": ""
             }
            },
            "type": "scattermapbox"
           }
          ],
          "scatterpolar": [
           {
            "marker": {
             "colorbar": {
              "outlinewidth": 0,
              "ticks": ""
             }
            },
            "type": "scatterpolar"
           }
          ],
          "scatterpolargl": [
           {
            "marker": {
             "colorbar": {
              "outlinewidth": 0,
              "ticks": ""
             }
            },
            "type": "scatterpolargl"
           }
          ],
          "scatterternary": [
           {
            "marker": {
             "colorbar": {
              "outlinewidth": 0,
              "ticks": ""
             }
            },
            "type": "scatterternary"
           }
          ],
          "surface": [
           {
            "colorbar": {
             "outlinewidth": 0,
             "ticks": ""
            },
            "colorscale": [
             [
              0,
              "#0d0887"
             ],
             [
              0.1111111111111111,
              "#46039f"
             ],
             [
              0.2222222222222222,
              "#7201a8"
             ],
             [
              0.3333333333333333,
              "#9c179e"
             ],
             [
              0.4444444444444444,
              "#bd3786"
             ],
             [
              0.5555555555555556,
              "#d8576b"
             ],
             [
              0.6666666666666666,
              "#ed7953"
             ],
             [
              0.7777777777777778,
              "#fb9f3a"
             ],
             [
              0.8888888888888888,
              "#fdca26"
             ],
             [
              1,
              "#f0f921"
             ]
            ],
            "type": "surface"
           }
          ],
          "table": [
           {
            "cells": {
             "fill": {
              "color": "#EBF0F8"
             },
             "line": {
              "color": "white"
             }
            },
            "header": {
             "fill": {
              "color": "#C8D4E3"
             },
             "line": {
              "color": "white"
             }
            },
            "type": "table"
           }
          ]
         },
         "layout": {
          "annotationdefaults": {
           "arrowcolor": "#2a3f5f",
           "arrowhead": 0,
           "arrowwidth": 1
          },
          "autotypenumbers": "strict",
          "coloraxis": {
           "colorbar": {
            "outlinewidth": 0,
            "ticks": ""
           }
          },
          "colorscale": {
           "diverging": [
            [
             0,
             "#8e0152"
            ],
            [
             0.1,
             "#c51b7d"
            ],
            [
             0.2,
             "#de77ae"
            ],
            [
             0.3,
             "#f1b6da"
            ],
            [
             0.4,
             "#fde0ef"
            ],
            [
             0.5,
             "#f7f7f7"
            ],
            [
             0.6,
             "#e6f5d0"
            ],
            [
             0.7,
             "#b8e186"
            ],
            [
             0.8,
             "#7fbc41"
            ],
            [
             0.9,
             "#4d9221"
            ],
            [
             1,
             "#276419"
            ]
           ],
           "sequential": [
            [
             0,
             "#0d0887"
            ],
            [
             0.1111111111111111,
             "#46039f"
            ],
            [
             0.2222222222222222,
             "#7201a8"
            ],
            [
             0.3333333333333333,
             "#9c179e"
            ],
            [
             0.4444444444444444,
             "#bd3786"
            ],
            [
             0.5555555555555556,
             "#d8576b"
            ],
            [
             0.6666666666666666,
             "#ed7953"
            ],
            [
             0.7777777777777778,
             "#fb9f3a"
            ],
            [
             0.8888888888888888,
             "#fdca26"
            ],
            [
             1,
             "#f0f921"
            ]
           ],
           "sequentialminus": [
            [
             0,
             "#0d0887"
            ],
            [
             0.1111111111111111,
             "#46039f"
            ],
            [
             0.2222222222222222,
             "#7201a8"
            ],
            [
             0.3333333333333333,
             "#9c179e"
            ],
            [
             0.4444444444444444,
             "#bd3786"
            ],
            [
             0.5555555555555556,
             "#d8576b"
            ],
            [
             0.6666666666666666,
             "#ed7953"
            ],
            [
             0.7777777777777778,
             "#fb9f3a"
            ],
            [
             0.8888888888888888,
             "#fdca26"
            ],
            [
             1,
             "#f0f921"
            ]
           ]
          },
          "colorway": [
           "#636efa",
           "#EF553B",
           "#00cc96",
           "#ab63fa",
           "#FFA15A",
           "#19d3f3",
           "#FF6692",
           "#B6E880",
           "#FF97FF",
           "#FECB52"
          ],
          "font": {
           "color": "#2a3f5f"
          },
          "geo": {
           "bgcolor": "white",
           "lakecolor": "white",
           "landcolor": "#E5ECF6",
           "showlakes": true,
           "showland": true,
           "subunitcolor": "white"
          },
          "hoverlabel": {
           "align": "left"
          },
          "hovermode": "closest",
          "mapbox": {
           "style": "light"
          },
          "paper_bgcolor": "white",
          "plot_bgcolor": "#E5ECF6",
          "polar": {
           "angularaxis": {
            "gridcolor": "white",
            "linecolor": "white",
            "ticks": ""
           },
           "bgcolor": "#E5ECF6",
           "radialaxis": {
            "gridcolor": "white",
            "linecolor": "white",
            "ticks": ""
           }
          },
          "scene": {
           "xaxis": {
            "backgroundcolor": "#E5ECF6",
            "gridcolor": "white",
            "gridwidth": 2,
            "linecolor": "white",
            "showbackground": true,
            "ticks": "",
            "zerolinecolor": "white"
           },
           "yaxis": {
            "backgroundcolor": "#E5ECF6",
            "gridcolor": "white",
            "gridwidth": 2,
            "linecolor": "white",
            "showbackground": true,
            "ticks": "",
            "zerolinecolor": "white"
           },
           "zaxis": {
            "backgroundcolor": "#E5ECF6",
            "gridcolor": "white",
            "gridwidth": 2,
            "linecolor": "white",
            "showbackground": true,
            "ticks": "",
            "zerolinecolor": "white"
           }
          },
          "shapedefaults": {
           "line": {
            "color": "#2a3f5f"
           }
          },
          "ternary": {
           "aaxis": {
            "gridcolor": "white",
            "linecolor": "white",
            "ticks": ""
           },
           "baxis": {
            "gridcolor": "white",
            "linecolor": "white",
            "ticks": ""
           },
           "bgcolor": "#E5ECF6",
           "caxis": {
            "gridcolor": "white",
            "linecolor": "white",
            "ticks": ""
           }
          },
          "title": {
           "x": 0.05
          },
          "xaxis": {
           "automargin": true,
           "gridcolor": "white",
           "linecolor": "white",
           "ticks": "",
           "title": {
            "standoff": 15
           },
           "zerolinecolor": "white",
           "zerolinewidth": 2
          },
          "yaxis": {
           "automargin": true,
           "gridcolor": "white",
           "linecolor": "white",
           "ticks": "",
           "title": {
            "standoff": 15
           },
           "zerolinecolor": "white",
           "zerolinewidth": 2
          }
         }
        },
        "title": {
         "text": "Платежи по источникам трафика"
        },
        "xaxis": {
         "anchor": "y",
         "categoryarray": [
          "Paid Other",
          "Email",
          "Organic Social",
          "Unassigned",
          "Cross-network",
          "Referral",
          "Paid Search",
          "Organic Search",
          "Direct",
          "No information"
         ],
         "categoryorder": "array",
         "domain": [
          0,
          1
         ],
         "title": {
          "text": "Источники"
         }
        },
        "yaxis": {
         "anchor": "x",
         "domain": [
          0,
          1
         ],
         "range": [
          0,
          null
         ],
         "title": {
          "text": "Платежи"
         }
        }
       }
      }
     },
     "metadata": {},
     "output_type": "display_data"
    }
   ],
   "source": [
    "# Построим график количества платежей по источникам трафика\n",
    "source = (df.groupby('session_default_channel_group')['payment_amount']\n",
    "                 .sum()\n",
    "                 .reset_index()\n",
    "                 .rename(columns={'payment_amount': 'summa'})\n",
    "                 .sort_values(by='summa', ascending=True))\n",
    "\n",
    "# Форматируем столбец 'sum' для отображения двух знаков после запятой\n",
    "source['summa'] = source['summa'].apply('{:.2f}'.format)\n",
    "\n",
    "# Построим диаграмму\n",
    "fig = px.bar(source, \n",
    "             x='session_default_channel_group', \n",
    "             y='summa', \n",
    "             text='summa',\n",
    "             color='session_default_channel_group')\n",
    "\n",
    "fig.update_layout(title='Платежи по источникам трафика',\n",
    "                  xaxis_title='Источники',\n",
    "                  yaxis_title='Платежи',\n",
    "                  yaxis={'range': [0, None]})  # Устанавливаем минимальное значение оси Y равным нулю\n",
    "\n",
    "fig.show()"
   ]
  },
  {
   "cell_type": "code",
   "execution_count": 10,
   "metadata": {},
   "outputs": [
    {
     "data": {
      "text/html": [
       "<div>\n",
       "<style scoped>\n",
       "    .dataframe tbody tr th:only-of-type {\n",
       "        vertical-align: middle;\n",
       "    }\n",
       "\n",
       "    .dataframe tbody tr th {\n",
       "        vertical-align: top;\n",
       "    }\n",
       "\n",
       "    .dataframe thead th {\n",
       "        text-align: right;\n",
       "    }\n",
       "</style>\n",
       "<table border=\"1\" class=\"dataframe\">\n",
       "  <thead>\n",
       "    <tr style=\"text-align: right;\">\n",
       "      <th></th>\n",
       "      <th>session_default_channel_group</th>\n",
       "      <th>summa</th>\n",
       "    </tr>\n",
       "  </thead>\n",
       "  <tbody>\n",
       "    <tr>\n",
       "      <th>6</th>\n",
       "      <td>Paid Other</td>\n",
       "      <td>150.00</td>\n",
       "    </tr>\n",
       "    <tr>\n",
       "      <th>2</th>\n",
       "      <td>Email</td>\n",
       "      <td>555.95</td>\n",
       "    </tr>\n",
       "    <tr>\n",
       "      <th>5</th>\n",
       "      <td>Organic Social</td>\n",
       "      <td>1200.00</td>\n",
       "    </tr>\n",
       "    <tr>\n",
       "      <th>9</th>\n",
       "      <td>Unassigned</td>\n",
       "      <td>2028.30</td>\n",
       "    </tr>\n",
       "    <tr>\n",
       "      <th>0</th>\n",
       "      <td>Cross-network</td>\n",
       "      <td>5614.87</td>\n",
       "    </tr>\n",
       "    <tr>\n",
       "      <th>8</th>\n",
       "      <td>Referral</td>\n",
       "      <td>7671.25</td>\n",
       "    </tr>\n",
       "    <tr>\n",
       "      <th>7</th>\n",
       "      <td>Paid Search</td>\n",
       "      <td>42174.98</td>\n",
       "    </tr>\n",
       "    <tr>\n",
       "      <th>4</th>\n",
       "      <td>Organic Search</td>\n",
       "      <td>72641.74</td>\n",
       "    </tr>\n",
       "    <tr>\n",
       "      <th>1</th>\n",
       "      <td>Direct</td>\n",
       "      <td>173313.38</td>\n",
       "    </tr>\n",
       "    <tr>\n",
       "      <th>3</th>\n",
       "      <td>No information</td>\n",
       "      <td>1076699.75</td>\n",
       "    </tr>\n",
       "  </tbody>\n",
       "</table>\n",
       "</div>"
      ],
      "text/plain": [
       "  session_default_channel_group       summa\n",
       "6                    Paid Other      150.00\n",
       "2                         Email      555.95\n",
       "5                Organic Social     1200.00\n",
       "9                    Unassigned     2028.30\n",
       "0                 Cross-network     5614.87\n",
       "8                      Referral     7671.25\n",
       "7                   Paid Search    42174.98\n",
       "4                Organic Search    72641.74\n",
       "1                        Direct   173313.38\n",
       "3                No information  1076699.75"
      ]
     },
     "execution_count": 10,
     "metadata": {},
     "output_type": "execute_result"
    }
   ],
   "source": [
    "source.head(10)"
   ]
  },
  {
   "cell_type": "code",
   "execution_count": 11,
   "metadata": {},
   "outputs": [
    {
     "data": {
      "image/png": "[encoded data removed]",
      "text/plain": [
       "<Figure size 640x480 with 1 Axes>"
      ]
     },
     "metadata": {},
     "output_type": "display_data"
    }
   ],
   "source": [
    "# Построим круговую диаграмму долей источников трафика\n",
    "fig1, ax1 = plt.subplots()\n",
    "ax1.pie(source['summa'], labels=source['session_default_channel_group'], autopct='%1.1f%%')\n",
    "ax1.axis('equal')  # чтобы круг был кругом\n",
    "\n",
    "# Отображение диаграммы\n",
    "plt.title('Доли дохода в источниках трафика')\n",
    "plt.show()"
   ]
  },
  {
   "cell_type": "markdown",
   "metadata": {},
   "source": [
    "Здесь некатегоризированый трафик принёс больше всего средств. Вероятно, это несколько платежей. Надо проверить. При этом **Direct** на втором месте с сильным отставанием."
   ]
  },
  {
   "cell_type": "markdown",
   "metadata": {},
   "source": [
    "Теперь поищем аномалии и выбросы в платежах."
   ]
  },
  {
   "cell_type": "code",
   "execution_count": 12,
   "metadata": {},
   "outputs": [
    {
     "data": {
      "image/png": "[encoded data removed]",
      "text/plain": [
       "<Figure size 1200x600 with 1 Axes>"
      ]
     },
     "metadata": {},
     "output_type": "display_data"
    }
   ],
   "source": [
    "# Находим медиану и квартили\n",
    "median = df['payment_amount'].median()\n",
    "q1 = df['payment_amount'].quantile(0.25)\n",
    "q3 = df['payment_amount'].quantile(0.75)\n",
    "\n",
    "# Определяем границы для выбросов\n",
    "iqr = q3 - q1\n",
    "lower_bound = q1 - 1.5 * iqr\n",
    "upper_bound = q3 + 1.5 * iqr\n",
    "\n",
    "# Строим график \"ящик с усами\"\n",
    "plt.figure(figsize=(12, 6))\n",
    "plt.boxplot(df['payment_amount'], labels=['Payment Amount'])\n",
    "plt.title('Распределение сумм платежей с выбросами')\n",
    "plt.show()"
   ]
  },
  {
   "cell_type": "code",
   "execution_count": 13,
   "metadata": {},
   "outputs": [
    {
     "name": "stdout",
     "output_type": "stream",
     "text": [
      "Количество выбросов: 203\n"
     ]
    }
   ],
   "source": [
    "# Находим значения, которые являются выбросами\n",
    "outliers = df['payment_amount'].apply(lambda x: (x < lower_bound) | (x > upper_bound)).astype(int)\n",
    "\n",
    "# Подсчёт количества выбросов\n",
    "num_outliers = outliers.sum()\n",
    "\n",
    "# Вывод количества выбросов в print\n",
    "print(f\"Количество выбросов: {num_outliers}\")"
   ]
  },
  {
   "cell_type": "markdown",
   "metadata": {},
   "source": [
    "В итоге, 203 выброса - это много, а в условиях рекламного рынка это вряд ли может быть ошибкой. Это, скорее всего, освоение рекламных бюджетов пользователями."
   ]
  },
  {
   "cell_type": "code",
   "execution_count": 14,
   "metadata": {},
   "outputs": [
    {
     "data": {
      "image/png": "[encoded data removed]",
      "text/plain": [
       "<Figure size 800x1200 with 1 Axes>"
      ]
     },
     "metadata": {},
     "output_type": "display_data"
    }
   ],
   "source": [
    "# Фильтрация данных, где в session_default_channel_group есть \"No information\"\n",
    "filtered_df = df[df['session_default_channel_group'] == \"No information\"]\n",
    "\n",
    "# Вычисление квартилей и медианы\n",
    "median = filtered_df['payment_amount'].median()\n",
    "q1 = filtered_df['payment_amount'].quantile(0.25)\n",
    "q3 = filtered_df['payment_amount'].quantile(0.75)\n",
    "\n",
    "# Вычисление границ для выбросов\n",
    "iqr = q3 - q1\n",
    "lower_bound = q1 - 1.5 * iqr\n",
    "upper_bound = q3 + 1.5 * iqr\n",
    "\n",
    "# Построение графика \"ящик с усами\"\n",
    "plt.figure(figsize=(8, 12))\n",
    "plt.boxplot(filtered_df['payment_amount'], labels=['Сумма платежа'])\n",
    "plt.title('Суммы платежей с выбросами из неопределённого источника')\n",
    "plt.show()\n"
   ]
  },
  {
   "cell_type": "code",
   "execution_count": 15,
   "metadata": {},
   "outputs": [
    {
     "name": "stdout",
     "output_type": "stream",
     "text": [
      "Количество выбросов: 41\n"
     ]
    }
   ],
   "source": [
    "# Находим значения, которые являются выбросами\n",
    "outliers_no_information = filtered_df['payment_amount'].apply(lambda x: (x < lower_bound) | (x > upper_bound)).astype(int)\n",
    "\n",
    "# Подсчёт количества выбросов\n",
    "n_outliers = outliers_no_information.sum()\n",
    "\n",
    "# Вывод количества выбросов в print\n",
    "print(f\"Количество выбросов: {n_outliers}\")"
   ]
  },
  {
   "cell_type": "markdown",
   "metadata": {},
   "source": [
    "Получается, что из 203 выбросов (крупных платежей) на неопознанный трафик приходится всего 41, или почти 20%. Значит 80% приходится на категоризированный трафик. Занятные цифры, нужно больше данных."
   ]
  },
  {
   "cell_type": "markdown",
   "metadata": {},
   "source": [
    "### Транзакции и источники по датам"
   ]
  },
  {
   "cell_type": "code",
   "execution_count": 16,
   "metadata": {},
   "outputs": [
    {
     "data": {
      "image/png": "[encoded data removed]",
      "text/plain": [
       "<Figure size 1200x600 with 2 Axes>"
      ]
     },
     "metadata": {},
     "output_type": "display_data"
    }
   ],
   "source": [
    "# Создаем два отдельных графика\n",
    "fig, ax1 = plt.subplots(figsize=(12, 6))\n",
    "ax2 = ax1.twinx()  # Создаем вторую ось Y\n",
    "\n",
    "# Отображаем платежи\n",
    "payments_df = df.groupby(['payment_date'])['payment_id'].count().reset_index(name='count')\n",
    "sources_df = df.groupby(['payment_date'])['session_default_channel_group'].nunique().reset_index(name='count')\n",
    "\n",
    "payments_df.plot(x='payment_date', y='count', ax=ax1, label='Количество платежей', color='blue')\n",
    "ax1.set_ylabel('Количество платежей')\n",
    "\n",
    "sources_df.plot(x='payment_date', y='count', ax=ax2, label='Количество источников', linestyle='--', color='red')\n",
    "ax2.set_ylabel('Количество источников')\n",
    "ax2.set_ylim(0, 1.1 * sources_df['count'].max())  # Устанавливаем пределы оси Y для источников\n",
    "\n",
    "# Добавляем легенду для первого графика слева\n",
    "ax1.legend(loc='upper left')\n",
    "\n",
    "# Добавляем легенду для второго графика справа\n",
    "ax2.legend(loc='upper right')\n",
    "\n",
    "# Показываем график\n",
    "plt.title('Количество платежей и источников по датам')\n",
    "plt.xlabel('Дата')\n",
    "plt.show()"
   ]
  },
  {
   "cell_type": "markdown",
   "metadata": {},
   "source": [
    "Больше всего платежей видим в начале, середине и в конце месяца, когда выделяются рекламные бюджеты. Ещё видно, что с 18 января оба графика синхронизируются, хотя до этого какой-либо корреляции видно не было. Узнать у маркетинга об активности в этот день и предыдущие."
   ]
  },
  {
   "cell_type": "markdown",
   "metadata": {},
   "source": [
    "## Считаем метрики маркетинга"
   ]
  },
  {
   "cell_type": "markdown",
   "metadata": {},
   "source": [
    "Здесь будем искать, какой источник трафика принёс наибольшую долю новых платящих пользователей."
   ]
  },
  {
   "cell_type": "code",
   "execution_count": 17,
   "metadata": {},
   "outputs": [
    {
     "data": {
      "text/html": [
       "<div>\n",
       "<style scoped>\n",
       "    .dataframe tbody tr th:only-of-type {\n",
       "        vertical-align: middle;\n",
       "    }\n",
       "\n",
       "    .dataframe tbody tr th {\n",
       "        vertical-align: top;\n",
       "    }\n",
       "\n",
       "    .dataframe thead th {\n",
       "        text-align: right;\n",
       "    }\n",
       "</style>\n",
       "<table border=\"1\" class=\"dataframe\">\n",
       "  <thead>\n",
       "    <tr style=\"text-align: right;\">\n",
       "      <th></th>\n",
       "      <th>payment_id</th>\n",
       "      <th>user_id</th>\n",
       "      <th>invoice_id</th>\n",
       "      <th>session_default_channel_group</th>\n",
       "      <th>payment_date</th>\n",
       "      <th>is_ftd</th>\n",
       "      <th>payment_amount</th>\n",
       "      <th>new_users</th>\n",
       "      <th>transactions</th>\n",
       "      <th>total_transactions</th>\n",
       "      <th>new_user_transactions</th>\n",
       "      <th>new_user_share</th>\n",
       "    </tr>\n",
       "  </thead>\n",
       "  <tbody>\n",
       "    <tr>\n",
       "      <th>0</th>\n",
       "      <td>75533919</td>\n",
       "      <td>94225</td>\n",
       "      <td>115359</td>\n",
       "      <td>Paid Search</td>\n",
       "      <td>2024-01-31</td>\n",
       "      <td>False</td>\n",
       "      <td>51.500000</td>\n",
       "      <td>0</td>\n",
       "      <td>3</td>\n",
       "      <td>1382050.25</td>\n",
       "      <td>0.0</td>\n",
       "      <td>0.0</td>\n",
       "    </tr>\n",
       "    <tr>\n",
       "      <th>1</th>\n",
       "      <td>75533917</td>\n",
       "      <td>82453</td>\n",
       "      <td>115358</td>\n",
       "      <td>Referral</td>\n",
       "      <td>2024-01-31</td>\n",
       "      <td>False</td>\n",
       "      <td>51.500000</td>\n",
       "      <td>0</td>\n",
       "      <td>2</td>\n",
       "      <td>1382050.25</td>\n",
       "      <td>0.0</td>\n",
       "      <td>0.0</td>\n",
       "    </tr>\n",
       "    <tr>\n",
       "      <th>2</th>\n",
       "      <td>75533911</td>\n",
       "      <td>94225</td>\n",
       "      <td>115357</td>\n",
       "      <td>Paid Search</td>\n",
       "      <td>2024-01-31</td>\n",
       "      <td>False</td>\n",
       "      <td>51.500000</td>\n",
       "      <td>0</td>\n",
       "      <td>3</td>\n",
       "      <td>1382050.25</td>\n",
       "      <td>0.0</td>\n",
       "      <td>0.0</td>\n",
       "    </tr>\n",
       "    <tr>\n",
       "      <th>3</th>\n",
       "      <td>75533909</td>\n",
       "      <td>13708</td>\n",
       "      <td>115354</td>\n",
       "      <td>Organic Search</td>\n",
       "      <td>2024-01-31</td>\n",
       "      <td>False</td>\n",
       "      <td>150.679993</td>\n",
       "      <td>0</td>\n",
       "      <td>12</td>\n",
       "      <td>1382050.25</td>\n",
       "      <td>0.0</td>\n",
       "      <td>0.0</td>\n",
       "    </tr>\n",
       "    <tr>\n",
       "      <th>4</th>\n",
       "      <td>75533907</td>\n",
       "      <td>94205</td>\n",
       "      <td>115353</td>\n",
       "      <td>Direct</td>\n",
       "      <td>2024-01-31</td>\n",
       "      <td>False</td>\n",
       "      <td>51.500000</td>\n",
       "      <td>0</td>\n",
       "      <td>3</td>\n",
       "      <td>1382050.25</td>\n",
       "      <td>0.0</td>\n",
       "      <td>0.0</td>\n",
       "    </tr>\n",
       "  </tbody>\n",
       "</table>\n",
       "</div>"
      ],
      "text/plain": [
       "   payment_id  user_id  invoice_id session_default_channel_group payment_date  \\\n",
       "0    75533919    94225      115359                   Paid Search   2024-01-31   \n",
       "1    75533917    82453      115358                      Referral   2024-01-31   \n",
       "2    75533911    94225      115357                   Paid Search   2024-01-31   \n",
       "3    75533909    13708      115354                Organic Search   2024-01-31   \n",
       "4    75533907    94205      115353                        Direct   2024-01-31   \n",
       "\n",
       "   is_ftd  payment_amount  new_users  transactions  total_transactions  \\\n",
       "0   False       51.500000          0             3          1382050.25   \n",
       "1   False       51.500000          0             2          1382050.25   \n",
       "2   False       51.500000          0             3          1382050.25   \n",
       "3   False      150.679993          0            12          1382050.25   \n",
       "4   False       51.500000          0             3          1382050.25   \n",
       "\n",
       "   new_user_transactions  new_user_share  \n",
       "0                    0.0             0.0  \n",
       "1                    0.0             0.0  \n",
       "2                    0.0             0.0  \n",
       "3                    0.0             0.0  \n",
       "4                    0.0             0.0  "
      ]
     },
     "execution_count": 17,
     "metadata": {},
     "output_type": "execute_result"
    }
   ],
   "source": [
    "# Расчёт метрики новых платящих пользователей в источниках трафика\n",
    "df['new_users'] = df['is_ftd'].astype(int)\n",
    "df['transactions'] = df['payment_amount'].groupby(df['user_id']).transform('count')\n",
    "df['total_transactions'] = df['payment_amount'].sum()\n",
    "df['new_user_transactions'] = df['new_users'] * df['payment_amount']\n",
    "df['new_user_share'] = df['new_user_transactions'] / df['total_transactions']\n",
    "\n",
    "# Сохранение результатов\n",
    "results = df[['session_default_channel_group', 'new_user_share']].groupby('session_default_channel_group').mean().reset_index()\n",
    "results.columns = ['source', 'share']\n",
    "\n",
    "# Умножаем значения в столбце 'share' на 100\n",
    "results['share'] = results['share'] * 100\n",
    "\n",
    "# Добавляем процентный формат к столбцу 'share'\n",
    "results['share'] = results['share'].apply(lambda x: f\"{x:.4f}%\")\n",
    "\n",
    "df.head()"
   ]
  },
  {
   "cell_type": "code",
   "execution_count": 18,
   "metadata": {},
   "outputs": [
    {
     "data": {
      "text/html": [
       "<div>\n",
       "<style scoped>\n",
       "    .dataframe tbody tr th:only-of-type {\n",
       "        vertical-align: middle;\n",
       "    }\n",
       "\n",
       "    .dataframe tbody tr th {\n",
       "        vertical-align: top;\n",
       "    }\n",
       "\n",
       "    .dataframe thead th {\n",
       "        text-align: right;\n",
       "    }\n",
       "</style>\n",
       "<table border=\"1\" class=\"dataframe\">\n",
       "  <thead>\n",
       "    <tr style=\"text-align: right;\">\n",
       "      <th></th>\n",
       "      <th>source</th>\n",
       "      <th>share</th>\n",
       "    </tr>\n",
       "  </thead>\n",
       "  <tbody>\n",
       "    <tr>\n",
       "      <th>0</th>\n",
       "      <td>Cross-network</td>\n",
       "      <td>0.0004%</td>\n",
       "    </tr>\n",
       "    <tr>\n",
       "      <th>1</th>\n",
       "      <td>Direct</td>\n",
       "      <td>0.0008%</td>\n",
       "    </tr>\n",
       "    <tr>\n",
       "      <th>2</th>\n",
       "      <td>Email</td>\n",
       "      <td>0.0012%</td>\n",
       "    </tr>\n",
       "    <tr>\n",
       "      <th>3</th>\n",
       "      <td>No information</td>\n",
       "      <td>0.0041%</td>\n",
       "    </tr>\n",
       "    <tr>\n",
       "      <th>4</th>\n",
       "      <td>Organic Search</td>\n",
       "      <td>0.0004%</td>\n",
       "    </tr>\n",
       "    <tr>\n",
       "      <th>5</th>\n",
       "      <td>Organic Social</td>\n",
       "      <td>0.0000%</td>\n",
       "    </tr>\n",
       "    <tr>\n",
       "      <th>6</th>\n",
       "      <td>Paid Other</td>\n",
       "      <td>0.0036%</td>\n",
       "    </tr>\n",
       "    <tr>\n",
       "      <th>7</th>\n",
       "      <td>Paid Search</td>\n",
       "      <td>0.0006%</td>\n",
       "    </tr>\n",
       "    <tr>\n",
       "      <th>8</th>\n",
       "      <td>Referral</td>\n",
       "      <td>0.0004%</td>\n",
       "    </tr>\n",
       "    <tr>\n",
       "      <th>9</th>\n",
       "      <td>Unassigned</td>\n",
       "      <td>0.0008%</td>\n",
       "    </tr>\n",
       "  </tbody>\n",
       "</table>\n",
       "</div>"
      ],
      "text/plain": [
       "           source    share\n",
       "0   Cross-network  0.0004%\n",
       "1          Direct  0.0008%\n",
       "2           Email  0.0012%\n",
       "3  No information  0.0041%\n",
       "4  Organic Search  0.0004%\n",
       "5  Organic Social  0.0000%\n",
       "6      Paid Other  0.0036%\n",
       "7     Paid Search  0.0006%\n",
       "8        Referral  0.0004%\n",
       "9      Unassigned  0.0008%"
      ]
     },
     "execution_count": 18,
     "metadata": {},
     "output_type": "execute_result"
    }
   ],
   "source": [
    "results.head(10)"
   ]
  },
  {
   "cell_type": "code",
   "execution_count": 19,
   "metadata": {},
   "outputs": [
    {
     "data": {
      "image/png": "[encoded data removed]",
      "text/plain": [
       "<Figure size 800x600 with 1 Axes>"
      ]
     },
     "metadata": {},
     "output_type": "display_data"
    }
   ],
   "source": [
    "# Сначала отсортируем по столбцу 'share' в порядке возрастания\n",
    "results = results.sort_values(by='share')\n",
    "\n",
    "# Создание графика\n",
    "plt.figure(figsize=(8,6))\n",
    "plt.barh(results['source'], results['share'])\n",
    "plt.title('Доля новых платящих пользователей в трафике')\n",
    "plt.xlabel('Доля, %')\n",
    "plt.ylabel('Источник трафика')\n",
    "plt.show()"
   ]
  },
  {
   "cell_type": "markdown",
   "metadata": {},
   "source": [
    "## Выводы\n",
    "\n",
    "Из представленных данных можно сделать вывод, что самым результативным источником привлечения клиентов является **No information**, то есть неопределённый источник трафика, который имеет самую высокую долю новых платящих пользователей - 0.0041% и самую большую сумму транзакций. Однако, стоит учесть, что это может быть связано с тем, что некоторые переходы не были атрибутированы к конкретному источнику и были отнесены к этой категории.\n",
    "\n",
    "Под *результативностью* в данном контексте понимается способность источника привлекать новых платящих пользователей. Чем выше доля новых платящих пользователей от конкретного источника, тем более результативным он считается.\n",
    "\n",
    "Из проведённого анализа можно сделать следующие выводы:\n",
    "\n",
    "1. **No information** (пропущенные значения в колонке с источником трафика) показывает неожиданно высокий результат - 0.0041%. Это может быть связано с тем, что некоторые переходы не были атрибутированы к конкретному источнику, и они были отнесены к этой категории.\n",
    "\n",
    "2. **Paid Other** (оплаченный трафик) также показывает высокий результат - 0.0036%. Это может быть связано с тем, что платформа активно использует платные источники трафика, которые не были указаны в отчёте.\n",
    "\n",
    "3. **Email-маркетинг** является наиболее эффективным источником трафика, приносящим 0.0012% платежей от общего числа переходов. Это может быть связано с тем, что email-маркетинг позволяет напрямую обращаться к целевой аудитории и предлагает персонализированный контент.\n",
    "\n",
    "4. **Organic Social** (органический трафик из соцсетей) имеет нулевой результат, потому что платформа слабо использует органический социальный трафик или не имеет большого количества подписчиков в социальных сетях.\n",
    "\n",
    "5. **Organic Search** (органический трафик из поисковиков) и **Referral** (партнёрские программы) имеют одинаковый результат - 0.0004%. Это может быть связано с тем, что платформа слабо использует SEO или имеет ограниченное количество рефералов.\n",
    "\n",
    "6. **Cross-network** (межсетевой), **Direct** (прямой трафик), **Paid Search** (оплаченный поиск) и **Unassigned**  (неназначенный трафик) имеют низкие результаты, потому что платформа мало использует эти источники трафика или они не являются эффективными для бизнеса.\n",
    "\n",
    "Сравнивая источники трафика по количеству новых платящих пользователей и сумме платежей, можно увидеть, что:\n",
    "\n",
    "- **No information** приносит наибольшее количество новых платящих пользователей и наибольшую прибыль, правда с учётом нескольких крупных платежей.\n",
    "- **Paid Other** приносит меньше новых платящих пользователей, но является одним из наиболее прибыльных источников.\n",
    "- **Email-маркетинг** приносит наибольшее количество новых платящих пользователей, но не является самым прибыльным источником.\n",
    "- **Organic Social** почти не приносит новых платящих пользователей и не приносит прибыли.\n",
    "- **Organic Search** и **Referral** приносят одинаковое количество новых платящих пользователей, но не являются прибыльными источниками.\n",
    "- **Cross-network**, **Direct**, **Paid Search** и **Unassigned** приносят меньше новых платящих пользователей и не являются прибыльными источниками.\n",
    "\n",
    "Таким образом, для увеличения прибыли платформы следует обратить внимание на источники, которые приносят наибольшую прибыль, такие как **Paid Other**, **Email** и **Organic Social**. Однако, для увеличения количества новых платящих пользователей, необходимо работать над увеличением эффективности источников, таких как **Email-маркетинг** и разобраться с **No information**.\n",
    "\n",
    "Учитывая специфику бизнеса платформы для покупки рекламного трафика onclicka.com, можно рекомендовать следующие стратегии:\n",
    "\n",
    "1. Увеличить инвестиции в **email-маркетинг**, так как он показывает наибольшую эффективность.\n",
    "\n",
    "2. Проанализировать, какие источники трафика были отнесены к категориям **No information** и **Paid Other**, чтобы лучше понять, какие из них работают лучше всего.\n",
    "\n",
    "3. Улучшить **SEO** и увеличить активность в **социальных сетях**, чтобы увеличить органический и социальный трафик.\n",
    "\n",
    "4. Пересмотреть стратегии использования платных источников трафика, таких как **Paid Search** и **Paid Other**, чтобы убедиться, что они эффективны и приносят ожидаемый результат.\n",
    "\n",
    "5. Продолжить анализ метрик и данных, чтобы лучше понимать, какие источники трафика работают лучше всего для бизнеса платформы.\n",
    "\n",
    "В целом, платформа может рассмотреть возможность увеличения инвестиций в продолжение работы над оптимизацией существующих каналов."
   ]
  }
 ],
 "metadata": {
  "kernelspec": {
   "display_name": "Python 3",
   "language": "python",
   "name": "python3"
  },
  "language_info": {
   "codemirror_mode": {
    "name": "ipython",
    "version": 3
   },
   "file_extension": ".py",
   "mimetype": "text/x-python",
   "name": "python",
   "nbconvert_exporter": "python",
   "pygments_lexer": "ipython3",
   "version": "3.12.3"
  }
 },
 "nbformat": 4,
 "nbformat_minor": 2
}
