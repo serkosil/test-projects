{
 "cells": [
  {
   "cell_type": "markdown",
   "metadata": {},
   "source": [
    "Тестовое задание\n",
    "\n",
    "Цель: необходимо обработать сырые данные, поступившие от парсера.\n",
    "\n",
    "Описание: в файле `hotels_parsing_result.xlsx` два листа - `platform1`, `platform2` с данными о гостиницах от двух разных платформ в одном регионе.\n",
    "\n",
    "Поля:\n",
    "- `id` - Идентификатор в БД;\n",
    "- `create_time` - Дата создания;\n",
    "- `title` - Название;\n",
    "- `hotel_type_original` - Тип гостиницы;\n",
    "- `city` - Город;\n",
    "- `address` - Адрес;\n",
    "- `rating` - Рейтинг;\n",
    "- `rating_5` - Рейтинг по пятибалльной шкале;\n",
    "- `review_count` - Количество отзывов;\n",
    "- `star_rating` - Звёздность;\n",
    "- `rooms_count` - Количество номеров;\n",
    "- `contact_social` - Контакты соц. сетей;\n",
    "- `description` - Описание;\n",
    "- `email` - адрес строкой, несколько значений через запятую;\n",
    "- `phone` - номер телефона строкой, несколько значений через запятую;\n",
    "- `website` - сайты строкой, несколько значений через запятую;\n",
    "- `uid` - Уникальный идентификатор гостиницы на платформе, не может быть разным у одной гостиницы, и не может повторятся у разных гостиниц, но в рамках одной платформы;\n",
    "- `parsing_time` - Время сбора;\n",
    "- `lat` - Широта;\n",
    "- `lon` - Долгота.\n",
    "\n",
    "Состав данных:\n",
    "Записи могут повторяться, и самые актуальные данные идут в конце.\n",
    "Если какое-то поле по конкретной гостинице пустое в последней записи, но встречалось ранее, то необходимо его взять из более ранних записей.\n",
    "Поля телефона, email, сайтов могут содержать лишние символы, несколько записей и прочее.\n",
    "Формат записи названия, адреса, типа гостиницы отличается в разных платформах.\n",
    "\n",
    "Задача:\n",
    "1. Собрать от каждой платформы финальный список гостиниц, в котором по каждой гостинице внутри платформы будет только одна запись с самыми актуальными и полными данными.\n",
    "2. Почистить данные.\n",
    "3. Поля телефона, email, сайтов распарсить и сохранить как списки в одинаковом формате (address@domen.org, 79234553322, domen.ru)\n",
    "4. Вывести топ 10 по каждой платформе, по параметрам: больше всего телефонов, больше всего отзывов.\n",
    "5. Вывести квадрат координат размером 1км на 1км, где больше всего гостиниц.\n",
    "6. Задача со *, объединить данные от двух платформ, по критерию, который надо придумать. Например: вывести все гостиницы, которые есть в платформе 1 и нет в платформе 2; или вывести топ-10 гостиниц которые есть в обоих платформах, по суммарному количеству отзывов.\n",
    "\n",
    "Требования:\n",
    "1. Результат должен быть представлен Jupyter notebook.\n",
    "2. Результат должен воспроизводится автоматически с нуля при повторном запуске, ручные правки должны быть учтены в коде.\n",
    "3. Комментарии в коде приветствуются.\n"
   ]
  },
  {
   "cell_type": "code",
   "execution_count": 3,
   "metadata": {},
   "outputs": [],
   "source": [
    "# Импорт библиотек\n",
    "import pandas as pd\n",
    "from fuzzywuzzy import process\n",
    "import re\n",
    "import numpy as np\n",
    "from IPython.display import display"
   ]
  },
  {
   "cell_type": "code",
   "execution_count": 5,
   "metadata": {},
   "outputs": [
    {
     "ename": "KeyError",
     "evalue": "'platform'",
     "output_type": "error",
     "traceback": [
      "\u001b[1;31m---------------------------------------------------------------------------\u001b[0m",
      "\u001b[1;31mKeyError\u001b[0m                                  Traceback (most recent call last)",
      "File \u001b[1;32mc:\\Users\\USER\\AppData\\Local\\Programs\\Python\\Python312\\Lib\\site-packages\\pandas\\core\\indexes\\base.py:3805\u001b[0m, in \u001b[0;36mIndex.get_loc\u001b[1;34m(self, key)\u001b[0m\n\u001b[0;32m   3804\u001b[0m \u001b[38;5;28;01mtry\u001b[39;00m:\n\u001b[1;32m-> 3805\u001b[0m     \u001b[38;5;28;01mreturn\u001b[39;00m \u001b[38;5;28;43mself\u001b[39;49m\u001b[38;5;241;43m.\u001b[39;49m\u001b[43m_engine\u001b[49m\u001b[38;5;241;43m.\u001b[39;49m\u001b[43mget_loc\u001b[49m\u001b[43m(\u001b[49m\u001b[43mcasted_key\u001b[49m\u001b[43m)\u001b[49m\n\u001b[0;32m   3806\u001b[0m \u001b[38;5;28;01mexcept\u001b[39;00m \u001b[38;5;167;01mKeyError\u001b[39;00m \u001b[38;5;28;01mas\u001b[39;00m err:\n",
      "File \u001b[1;32mindex.pyx:167\u001b[0m, in \u001b[0;36mpandas._libs.index.IndexEngine.get_loc\u001b[1;34m()\u001b[0m\n",
      "File \u001b[1;32mindex.pyx:196\u001b[0m, in \u001b[0;36mpandas._libs.index.IndexEngine.get_loc\u001b[1;34m()\u001b[0m\n",
      "File \u001b[1;32mpandas\\\\_libs\\\\hashtable_class_helper.pxi:7081\u001b[0m, in \u001b[0;36mpandas._libs.hashtable.PyObjectHashTable.get_item\u001b[1;34m()\u001b[0m\n",
      "File \u001b[1;32mpandas\\\\_libs\\\\hashtable_class_helper.pxi:7089\u001b[0m, in \u001b[0;36mpandas._libs.hashtable.PyObjectHashTable.get_item\u001b[1;34m()\u001b[0m\n",
      "\u001b[1;31mKeyError\u001b[0m: 'platform'",
      "\nThe above exception was the direct cause of the following exception:\n",
      "\u001b[1;31mKeyError\u001b[0m                                  Traceback (most recent call last)",
      "Cell \u001b[1;32mIn[5], line 5\u001b[0m\n\u001b[0;32m      2\u001b[0m df \u001b[38;5;241m=\u001b[39m pd\u001b[38;5;241m.\u001b[39mread_excel(\u001b[38;5;124m'\u001b[39m\u001b[38;5;124mhotels_parsing_result.xlsx\u001b[39m\u001b[38;5;124m'\u001b[39m)\n\u001b[0;32m      4\u001b[0m \u001b[38;5;66;03m# Объединение данных с двух платформ\u001b[39;00m\n\u001b[1;32m----> 5\u001b[0m combined_data \u001b[38;5;241m=\u001b[39m pd\u001b[38;5;241m.\u001b[39mconcat([df[\u001b[43mdf\u001b[49m\u001b[43m[\u001b[49m\u001b[38;5;124;43m'\u001b[39;49m\u001b[38;5;124;43mplatform\u001b[39;49m\u001b[38;5;124;43m'\u001b[39;49m\u001b[43m]\u001b[49m \u001b[38;5;241m==\u001b[39m \u001b[38;5;124m'\u001b[39m\u001b[38;5;124mplatform1\u001b[39m\u001b[38;5;124m'\u001b[39m], df[df[\u001b[38;5;124m'\u001b[39m\u001b[38;5;124mplatform\u001b[39m\u001b[38;5;124m'\u001b[39m] \u001b[38;5;241m==\u001b[39m \u001b[38;5;124m'\u001b[39m\u001b[38;5;124mplatform2\u001b[39m\u001b[38;5;124m'\u001b[39m]])\n\u001b[0;32m      7\u001b[0m \u001b[38;5;66;03m# Группировка данных по uid и выбор последнего значения для каждой гостиницы\u001b[39;00m\n\u001b[0;32m      8\u001b[0m grouped_data \u001b[38;5;241m=\u001b[39m combined_data\u001b[38;5;241m.\u001b[39mgroupby(\u001b[38;5;124m'\u001b[39m\u001b[38;5;124muid\u001b[39m\u001b[38;5;124m'\u001b[39m)\u001b[38;5;241m.\u001b[39mtail(\u001b[38;5;241m1\u001b[39m)\n",
      "File \u001b[1;32mc:\\Users\\USER\\AppData\\Local\\Programs\\Python\\Python312\\Lib\\site-packages\\pandas\\core\\frame.py:4102\u001b[0m, in \u001b[0;36mDataFrame.__getitem__\u001b[1;34m(self, key)\u001b[0m\n\u001b[0;32m   4100\u001b[0m \u001b[38;5;28;01mif\u001b[39;00m \u001b[38;5;28mself\u001b[39m\u001b[38;5;241m.\u001b[39mcolumns\u001b[38;5;241m.\u001b[39mnlevels \u001b[38;5;241m>\u001b[39m \u001b[38;5;241m1\u001b[39m:\n\u001b[0;32m   4101\u001b[0m     \u001b[38;5;28;01mreturn\u001b[39;00m \u001b[38;5;28mself\u001b[39m\u001b[38;5;241m.\u001b[39m_getitem_multilevel(key)\n\u001b[1;32m-> 4102\u001b[0m indexer \u001b[38;5;241m=\u001b[39m \u001b[38;5;28;43mself\u001b[39;49m\u001b[38;5;241;43m.\u001b[39;49m\u001b[43mcolumns\u001b[49m\u001b[38;5;241;43m.\u001b[39;49m\u001b[43mget_loc\u001b[49m\u001b[43m(\u001b[49m\u001b[43mkey\u001b[49m\u001b[43m)\u001b[49m\n\u001b[0;32m   4103\u001b[0m \u001b[38;5;28;01mif\u001b[39;00m is_integer(indexer):\n\u001b[0;32m   4104\u001b[0m     indexer \u001b[38;5;241m=\u001b[39m [indexer]\n",
      "File \u001b[1;32mc:\\Users\\USER\\AppData\\Local\\Programs\\Python\\Python312\\Lib\\site-packages\\pandas\\core\\indexes\\base.py:3812\u001b[0m, in \u001b[0;36mIndex.get_loc\u001b[1;34m(self, key)\u001b[0m\n\u001b[0;32m   3807\u001b[0m     \u001b[38;5;28;01mif\u001b[39;00m \u001b[38;5;28misinstance\u001b[39m(casted_key, \u001b[38;5;28mslice\u001b[39m) \u001b[38;5;129;01mor\u001b[39;00m (\n\u001b[0;32m   3808\u001b[0m         \u001b[38;5;28misinstance\u001b[39m(casted_key, abc\u001b[38;5;241m.\u001b[39mIterable)\n\u001b[0;32m   3809\u001b[0m         \u001b[38;5;129;01mand\u001b[39;00m \u001b[38;5;28many\u001b[39m(\u001b[38;5;28misinstance\u001b[39m(x, \u001b[38;5;28mslice\u001b[39m) \u001b[38;5;28;01mfor\u001b[39;00m x \u001b[38;5;129;01min\u001b[39;00m casted_key)\n\u001b[0;32m   3810\u001b[0m     ):\n\u001b[0;32m   3811\u001b[0m         \u001b[38;5;28;01mraise\u001b[39;00m InvalidIndexError(key)\n\u001b[1;32m-> 3812\u001b[0m     \u001b[38;5;28;01mraise\u001b[39;00m \u001b[38;5;167;01mKeyError\u001b[39;00m(key) \u001b[38;5;28;01mfrom\u001b[39;00m \u001b[38;5;21;01merr\u001b[39;00m\n\u001b[0;32m   3813\u001b[0m \u001b[38;5;28;01mexcept\u001b[39;00m \u001b[38;5;167;01mTypeError\u001b[39;00m:\n\u001b[0;32m   3814\u001b[0m     \u001b[38;5;66;03m# If we have a listlike key, _check_indexing_error will raise\u001b[39;00m\n\u001b[0;32m   3815\u001b[0m     \u001b[38;5;66;03m#  InvalidIndexError. Otherwise we fall through and re-raise\u001b[39;00m\n\u001b[0;32m   3816\u001b[0m     \u001b[38;5;66;03m#  the TypeError.\u001b[39;00m\n\u001b[0;32m   3817\u001b[0m     \u001b[38;5;28mself\u001b[39m\u001b[38;5;241m.\u001b[39m_check_indexing_error(key)\n",
      "\u001b[1;31mKeyError\u001b[0m: 'platform'"
     ]
    }
   ],
   "source": [
    "# Чтение данных из Excel файла\n",
    "df = pd.read_excel('hotels_parsing_result.xlsx')\n",
    "\n",
    "# Объединение данных с двух платформ\n",
    "combined_data = pd.concat([df[df['platform'] == 'platform1'], df[df['platform'] == 'platform2']])\n",
    "\n",
    "# Группировка данных по uid и выбор последнего значения для каждой гостиницы\n",
    "grouped_data = combined_data.groupby('uid').tail(1)"
   ]
  },
  {
   "cell_type": "code",
   "execution_count": null,
   "metadata": {},
   "outputs": [],
   "source": [
    "# Чистка данных\n",
    "def standardize_address(address):\n",
    "# Преобразование адреса в стандартный формат\n",
    "address = address.lower() # Приведение адреса к нижнему регистру\n",
    "address = address.replace(\" \", \"\") # Удаление пробелов\n",
    "address = address.replace(\",\", \"\") # Удаление запятых\n",
    "address = address.replace(\".\", \"\") # Удаление точек\n",
    "return address\n",
    "\n",
    "def clean_data(dataframe):\n",
    "    # Чистка полей телефона, email, сайтов\n",
    "    dataframe['phone'] = dataframe['phone'].apply(lambda x: ','.join(filter(None, re.split(r'\\D+', str(x)))))\n",
    "    dataframe['email'] = dataframe['email'].apply(lambda x: process.extractOne(x, dataframe['email'].tolist())[0] if x in dataframe['email'].tolist() else x)\n",
    "    dataframe['website'] = dataframe['website'].apply(lambda x: x.lower().strip().replace('https://', '').replace('http://', '').split('/')[0])\n",
    "\n",
    "return dataframe"
   ]
  },
  {
   "cell_type": "code",
   "execution_count": null,
   "metadata": {},
   "outputs": [],
   "source": [
    "cleaned_dataframe = clean_data(df)\n",
    "# Вывод результатов\n",
    "display(cleaned_dataframe)"
   ]
  },
  {
   "cell_type": "code",
   "execution_count": null,
   "metadata": {},
   "outputs": [],
   "source": [
    "# Распределение данных по спискам\n",
    "# Можно использовать регулярные выражения для распарсивания строк\n",
    "# Функция для распарсивания строк\n",
    "def parse_strings(series):\n",
    "    # Регулярное выражение для поиска контактных данных\n",
    "    pattern = r'(\\S+)'  # (\\S+) для версии Python >= 3.7\n",
    "    results = []\n",
    "    for item in series:\n",
    "        matches = re.findall(pattern, item)\n",
    "        results.extend(matches)\n",
    "    return results\n",
    "\n",
    "# Распределение данных по спискам\n",
    "df['phone'] = parse_strings(df['phone'])\n",
    "df['email'] = parse_strings(df['email'])\n",
    "df['website'] = parse_strings(df['website'])\n",
    "\n",
    "print(df)"
   ]
  },
  {
   "cell_type": "code",
   "execution_count": null,
   "metadata": {},
   "outputs": [],
   "source": [
    "# Вывод топа 10 гостиниц по количеству телефонов и отзывов\n",
    "top_phones = grouped_data.sort_values(['phone', 'platform'], ascending=[False, False]).head(10)\n",
    "top_reviews = grouped_data.sort_values(['review_count', 'platform'], ascending=[False, False]).head(10)"
   ]
  },
  {
   "cell_type": "code",
   "execution_count": null,
   "metadata": {},
   "outputs": [],
   "source": [
    "# Вычисление квадрата координат размером 1 км на 1 км, где больше всего гостиниц\n",
    "# Это может потребовать дополнительной логики для определения границ квадрата"
   ]
  },
  {
   "cell_type": "code",
   "execution_count": null,
   "metadata": {},
   "outputs": [],
   "source": [
    "# Задача со звездочкой\n",
    "# Здесь можно реализовать различные сценарии объединения данных, например:\n",
    "# merged_data = pd.merge(df1, df2, on='uid', how='left').fillna(method='ffill')\n",
    "# top_merged = merged_data.sort_values(['review_count', 'platform'], ascending=[False, False]).head(10)"
   ]
  },
  {
   "cell_type": "code",
   "execution_count": null,
   "metadata": {},
   "outputs": [],
   "source": [
    "# Вывод результатов\n",
    "display(grouped_data)\n",
    "display(top_phones)\n",
    "display(top_reviews)"
   ]
  }
 ],
 "metadata": {
  "kernelspec": {
   "display_name": "Python 3",
   "language": "python",
   "name": "python3"
  },
  "language_info": {
   "codemirror_mode": {
    "name": "ipython",
    "version": 3
   },
   "file_extension": ".py",
   "mimetype": "text/x-python",
   "name": "python",
   "nbconvert_exporter": "python",
   "pygments_lexer": "ipython3",
   "version": "3.12.3"
  }
 },
 "nbformat": 4,
 "nbformat_minor": 2
}
